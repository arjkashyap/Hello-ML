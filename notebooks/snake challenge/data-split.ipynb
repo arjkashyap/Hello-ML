{
 "cells": [
  {
   "cell_type": "code",
   "execution_count": 1,
   "metadata": {},
   "outputs": [],
   "source": [
    "import pandas as pd\n",
    "import os\n",
    "import math\n",
    "import shutil  "
   ]
  },
  {
   "cell_type": "code",
   "execution_count": 2,
   "metadata": {},
   "outputs": [],
   "source": [
    "train_dir = 'data/train'\n",
    "train_csv = 'data/train.csv'\n",
    "valid_dir = 'data/valid'\n",
    "valid_csv = 'data/valid.csv'"
   ]
  },
  {
   "cell_type": "code",
   "execution_count": 3,
   "metadata": {},
   "outputs": [],
   "source": [
    "train_labels = pd.read_csv(train_csv)"
   ]
  },
  {
   "cell_type": "code",
   "execution_count": 4,
   "metadata": {},
   "outputs": [
    {
     "data": {
      "text/html": [
       "<div>\n",
       "<style scoped>\n",
       "    .dataframe tbody tr th:only-of-type {\n",
       "        vertical-align: middle;\n",
       "    }\n",
       "\n",
       "    .dataframe tbody tr th {\n",
       "        vertical-align: top;\n",
       "    }\n",
       "\n",
       "    .dataframe thead th {\n",
       "        text-align: right;\n",
       "    }\n",
       "</style>\n",
       "<table border=\"1\" class=\"dataframe\">\n",
       "  <thead>\n",
       "    <tr style=\"text-align: right;\">\n",
       "      <th></th>\n",
       "      <th>image_id</th>\n",
       "      <th>breed</th>\n",
       "    </tr>\n",
       "  </thead>\n",
       "  <tbody>\n",
       "    <tr>\n",
       "      <th>0</th>\n",
       "      <td>a8b3ad1dde</td>\n",
       "      <td>nerodia-erythrogaster</td>\n",
       "    </tr>\n",
       "    <tr>\n",
       "      <th>1</th>\n",
       "      <td>8b492b973d</td>\n",
       "      <td>pantherophis-vulpinus</td>\n",
       "    </tr>\n",
       "    <tr>\n",
       "      <th>2</th>\n",
       "      <td>929b99ea92</td>\n",
       "      <td>thamnophis-sirtalis</td>\n",
       "    </tr>\n",
       "    <tr>\n",
       "      <th>3</th>\n",
       "      <td>bbac7385e2</td>\n",
       "      <td>pantherophis-obsoletus</td>\n",
       "    </tr>\n",
       "    <tr>\n",
       "      <th>4</th>\n",
       "      <td>ef776b1488</td>\n",
       "      <td>agkistrodon-contortrix</td>\n",
       "    </tr>\n",
       "    <tr>\n",
       "      <th>...</th>\n",
       "      <td>...</td>\n",
       "      <td>...</td>\n",
       "    </tr>\n",
       "    <tr>\n",
       "      <th>5503</th>\n",
       "      <td>5f0c970adf</td>\n",
       "      <td>lampropeltis-triangulum</td>\n",
       "    </tr>\n",
       "    <tr>\n",
       "      <th>5504</th>\n",
       "      <td>f6a4287fac</td>\n",
       "      <td>pantherophis-alleghaniensis</td>\n",
       "    </tr>\n",
       "    <tr>\n",
       "      <th>5505</th>\n",
       "      <td>d3c10e63e1</td>\n",
       "      <td>thamnophis-sirtalis</td>\n",
       "    </tr>\n",
       "    <tr>\n",
       "      <th>5506</th>\n",
       "      <td>61ef50879c</td>\n",
       "      <td>pituophis-catenifer</td>\n",
       "    </tr>\n",
       "    <tr>\n",
       "      <th>5507</th>\n",
       "      <td>4791d8bf9a</td>\n",
       "      <td>lampropeltis-triangulum</td>\n",
       "    </tr>\n",
       "  </tbody>\n",
       "</table>\n",
       "<p>5508 rows × 2 columns</p>\n",
       "</div>"
      ],
      "text/plain": [
       "        image_id                        breed\n",
       "0     a8b3ad1dde        nerodia-erythrogaster\n",
       "1     8b492b973d        pantherophis-vulpinus\n",
       "2     929b99ea92          thamnophis-sirtalis\n",
       "3     bbac7385e2       pantherophis-obsoletus\n",
       "4     ef776b1488       agkistrodon-contortrix\n",
       "...          ...                          ...\n",
       "5503  5f0c970adf      lampropeltis-triangulum\n",
       "5504  f6a4287fac  pantherophis-alleghaniensis\n",
       "5505  d3c10e63e1          thamnophis-sirtalis\n",
       "5506  61ef50879c          pituophis-catenifer\n",
       "5507  4791d8bf9a      lampropeltis-triangulum\n",
       "\n",
       "[5508 rows x 2 columns]"
      ]
     },
     "execution_count": 4,
     "metadata": {},
     "output_type": "execute_result"
    }
   ],
   "source": [
    "train_labels"
   ]
  },
  {
   "cell_type": "code",
   "execution_count": 5,
   "metadata": {},
   "outputs": [
    {
     "data": {
      "text/plain": [
       "5508"
      ]
     },
     "execution_count": 5,
     "metadata": {},
     "output_type": "execute_result"
    }
   ],
   "source": [
    "data_size = len(train_labels)\n",
    "data_size"
   ]
  },
  {
   "cell_type": "code",
   "execution_count": 6,
   "metadata": {},
   "outputs": [
    {
     "data": {
      "text/plain": [
       "550"
      ]
     },
     "execution_count": 6,
     "metadata": {},
     "output_type": "execute_result"
    }
   ],
   "source": [
    "valid_size = math.floor(0.10 * data_size)     # Size of validation data\n",
    "valid_size"
   ]
  },
  {
   "cell_type": "code",
   "execution_count": 7,
   "metadata": {},
   "outputs": [
    {
     "data": {
      "text/html": [
       "<div>\n",
       "<style scoped>\n",
       "    .dataframe tbody tr th:only-of-type {\n",
       "        vertical-align: middle;\n",
       "    }\n",
       "\n",
       "    .dataframe tbody tr th {\n",
       "        vertical-align: top;\n",
       "    }\n",
       "\n",
       "    .dataframe thead th {\n",
       "        text-align: right;\n",
       "    }\n",
       "</style>\n",
       "<table border=\"1\" class=\"dataframe\">\n",
       "  <thead>\n",
       "    <tr style=\"text-align: right;\">\n",
       "      <th></th>\n",
       "      <th>image_id</th>\n",
       "      <th>breed</th>\n",
       "    </tr>\n",
       "  </thead>\n",
       "  <tbody>\n",
       "    <tr>\n",
       "      <th>0</th>\n",
       "      <td>a8b3ad1dde</td>\n",
       "      <td>nerodia-erythrogaster</td>\n",
       "    </tr>\n",
       "    <tr>\n",
       "      <th>1</th>\n",
       "      <td>8b492b973d</td>\n",
       "      <td>pantherophis-vulpinus</td>\n",
       "    </tr>\n",
       "    <tr>\n",
       "      <th>2</th>\n",
       "      <td>929b99ea92</td>\n",
       "      <td>thamnophis-sirtalis</td>\n",
       "    </tr>\n",
       "    <tr>\n",
       "      <th>3</th>\n",
       "      <td>bbac7385e2</td>\n",
       "      <td>pantherophis-obsoletus</td>\n",
       "    </tr>\n",
       "    <tr>\n",
       "      <th>4</th>\n",
       "      <td>ef776b1488</td>\n",
       "      <td>agkistrodon-contortrix</td>\n",
       "    </tr>\n",
       "    <tr>\n",
       "      <th>...</th>\n",
       "      <td>...</td>\n",
       "      <td>...</td>\n",
       "    </tr>\n",
       "    <tr>\n",
       "      <th>545</th>\n",
       "      <td>b7501f81bd</td>\n",
       "      <td>thamnophis-sirtalis</td>\n",
       "    </tr>\n",
       "    <tr>\n",
       "      <th>546</th>\n",
       "      <td>df4f376491</td>\n",
       "      <td>lampropeltis-triangulum</td>\n",
       "    </tr>\n",
       "    <tr>\n",
       "      <th>547</th>\n",
       "      <td>6ed03bcdee</td>\n",
       "      <td>pantherophis-alleghaniensis</td>\n",
       "    </tr>\n",
       "    <tr>\n",
       "      <th>548</th>\n",
       "      <td>dee78d8fc8</td>\n",
       "      <td>pantherophis-obsoletus</td>\n",
       "    </tr>\n",
       "    <tr>\n",
       "      <th>549</th>\n",
       "      <td>e18f3baddc</td>\n",
       "      <td>pituophis-catenifer</td>\n",
       "    </tr>\n",
       "  </tbody>\n",
       "</table>\n",
       "<p>550 rows × 2 columns</p>\n",
       "</div>"
      ],
      "text/plain": [
       "       image_id                        breed\n",
       "0    a8b3ad1dde        nerodia-erythrogaster\n",
       "1    8b492b973d        pantherophis-vulpinus\n",
       "2    929b99ea92          thamnophis-sirtalis\n",
       "3    bbac7385e2       pantherophis-obsoletus\n",
       "4    ef776b1488       agkistrodon-contortrix\n",
       "..          ...                          ...\n",
       "545  b7501f81bd          thamnophis-sirtalis\n",
       "546  df4f376491      lampropeltis-triangulum\n",
       "547  6ed03bcdee  pantherophis-alleghaniensis\n",
       "548  dee78d8fc8       pantherophis-obsoletus\n",
       "549  e18f3baddc          pituophis-catenifer\n",
       "\n",
       "[550 rows x 2 columns]"
      ]
     },
     "execution_count": 7,
     "metadata": {},
     "output_type": "execute_result"
    }
   ],
   "source": [
    "valid_labels = train_labels[:valid_size]\n",
    "valid_labels"
   ]
  },
  {
   "cell_type": "code",
   "execution_count": 8,
   "metadata": {},
   "outputs": [],
   "source": [
    "train_labels = train_labels.iloc[valid_size:]    # Take out valid_size data from the main labels"
   ]
  },
  {
   "cell_type": "code",
   "execution_count": 9,
   "metadata": {},
   "outputs": [
    {
     "data": {
      "text/html": [
       "<div>\n",
       "<style scoped>\n",
       "    .dataframe tbody tr th:only-of-type {\n",
       "        vertical-align: middle;\n",
       "    }\n",
       "\n",
       "    .dataframe tbody tr th {\n",
       "        vertical-align: top;\n",
       "    }\n",
       "\n",
       "    .dataframe thead th {\n",
       "        text-align: right;\n",
       "    }\n",
       "</style>\n",
       "<table border=\"1\" class=\"dataframe\">\n",
       "  <thead>\n",
       "    <tr style=\"text-align: right;\">\n",
       "      <th></th>\n",
       "      <th>image_id</th>\n",
       "      <th>breed</th>\n",
       "    </tr>\n",
       "  </thead>\n",
       "  <tbody>\n",
       "    <tr>\n",
       "      <th>550</th>\n",
       "      <td>597e09c5d0</td>\n",
       "      <td>agkistrodon-contortrix</td>\n",
       "    </tr>\n",
       "    <tr>\n",
       "      <th>551</th>\n",
       "      <td>a14a5ace05</td>\n",
       "      <td>pituophis-catenifer</td>\n",
       "    </tr>\n",
       "    <tr>\n",
       "      <th>552</th>\n",
       "      <td>5a35436f64</td>\n",
       "      <td>thamnophis-proximus</td>\n",
       "    </tr>\n",
       "    <tr>\n",
       "      <th>553</th>\n",
       "      <td>a27f63a15e</td>\n",
       "      <td>pantherophis-obsoletus</td>\n",
       "    </tr>\n",
       "    <tr>\n",
       "      <th>554</th>\n",
       "      <td>646dbb9907</td>\n",
       "      <td>thamnophis-marcianus</td>\n",
       "    </tr>\n",
       "    <tr>\n",
       "      <th>...</th>\n",
       "      <td>...</td>\n",
       "      <td>...</td>\n",
       "    </tr>\n",
       "    <tr>\n",
       "      <th>5503</th>\n",
       "      <td>5f0c970adf</td>\n",
       "      <td>lampropeltis-triangulum</td>\n",
       "    </tr>\n",
       "    <tr>\n",
       "      <th>5504</th>\n",
       "      <td>f6a4287fac</td>\n",
       "      <td>pantherophis-alleghaniensis</td>\n",
       "    </tr>\n",
       "    <tr>\n",
       "      <th>5505</th>\n",
       "      <td>d3c10e63e1</td>\n",
       "      <td>thamnophis-sirtalis</td>\n",
       "    </tr>\n",
       "    <tr>\n",
       "      <th>5506</th>\n",
       "      <td>61ef50879c</td>\n",
       "      <td>pituophis-catenifer</td>\n",
       "    </tr>\n",
       "    <tr>\n",
       "      <th>5507</th>\n",
       "      <td>4791d8bf9a</td>\n",
       "      <td>lampropeltis-triangulum</td>\n",
       "    </tr>\n",
       "  </tbody>\n",
       "</table>\n",
       "<p>4958 rows × 2 columns</p>\n",
       "</div>"
      ],
      "text/plain": [
       "        image_id                        breed\n",
       "550   597e09c5d0       agkistrodon-contortrix\n",
       "551   a14a5ace05          pituophis-catenifer\n",
       "552   5a35436f64          thamnophis-proximus\n",
       "553   a27f63a15e       pantherophis-obsoletus\n",
       "554   646dbb9907         thamnophis-marcianus\n",
       "...          ...                          ...\n",
       "5503  5f0c970adf      lampropeltis-triangulum\n",
       "5504  f6a4287fac  pantherophis-alleghaniensis\n",
       "5505  d3c10e63e1          thamnophis-sirtalis\n",
       "5506  61ef50879c          pituophis-catenifer\n",
       "5507  4791d8bf9a      lampropeltis-triangulum\n",
       "\n",
       "[4958 rows x 2 columns]"
      ]
     },
     "execution_count": 9,
     "metadata": {},
     "output_type": "execute_result"
    }
   ],
   "source": [
    "train_labels"
   ]
  },
  {
   "cell_type": "code",
   "execution_count": 10,
   "metadata": {},
   "outputs": [],
   "source": [
    "img_ids = valid_labels['image_id']\n",
    "breeds = valid_labels['breed']"
   ]
  },
  {
   "cell_type": "markdown",
   "metadata": {},
   "source": [
    "We'll now iterate over each image-id and copy them from train folder to valid folder"
   ]
  },
  {
   "cell_type": "code",
   "execution_count": 11,
   "metadata": {},
   "outputs": [],
   "source": [
    "for img_name in img_ids:\n",
    "    try:\n",
    "        source = os.path.join(train_dir, img_name + '.jpg')\n",
    "        dest = os.path.join(valid_dir, img_name + '.jpg')\n",
    "        #print(image_path)\n",
    "        shutil.move(source, dest)  \n",
    "    except Exception as e:\n",
    "        print(e)\n"
   ]
  },
  {
   "cell_type": "code",
   "execution_count": 12,
   "metadata": {},
   "outputs": [],
   "source": [
    "valid_labels.to_csv(valid_csv,index=False)"
   ]
  },
  {
   "cell_type": "code",
   "execution_count": 13,
   "metadata": {},
   "outputs": [
    {
     "data": {
      "text/plain": [
       "['.ipynb_checkpoints',\n",
       " 'test',\n",
       " 'test.csv',\n",
       " 'train',\n",
       " 'train.csv',\n",
       " 'valid',\n",
       " 'valid.csv']"
      ]
     },
     "execution_count": 13,
     "metadata": {},
     "output_type": "execute_result"
    }
   ],
   "source": [
    "os.listdir('data')"
   ]
  },
  {
   "cell_type": "code",
   "execution_count": 14,
   "metadata": {},
   "outputs": [],
   "source": [
    "train_labels.to_csv(train_csv, index=False)"
   ]
  },
  {
   "cell_type": "code",
   "execution_count": null,
   "metadata": {},
   "outputs": [],
   "source": []
  },
  {
   "cell_type": "code",
   "execution_count": null,
   "metadata": {},
   "outputs": [],
   "source": []
  }
 ],
 "metadata": {
  "kernelspec": {
   "display_name": "Python 3",
   "language": "python",
   "name": "python3"
  },
  "language_info": {
   "codemirror_mode": {
    "name": "ipython",
    "version": 3
   },
   "file_extension": ".py",
   "mimetype": "text/x-python",
   "name": "python",
   "nbconvert_exporter": "python",
   "pygments_lexer": "ipython3",
   "version": "3.7.7"
  }
 },
 "nbformat": 4,
 "nbformat_minor": 4
}
