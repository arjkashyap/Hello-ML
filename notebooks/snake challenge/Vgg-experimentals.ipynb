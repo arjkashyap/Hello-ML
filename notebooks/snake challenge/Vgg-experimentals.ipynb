{
 "cells": [
  {
   "cell_type": "markdown",
   "metadata": {},
   "source": [
    "# Model"
   ]
  },
  {
   "cell_type": "code",
   "execution_count": 1,
   "metadata": {},
   "outputs": [],
   "source": [
    "%matplotlib inline\n",
    "import numpy as np\n",
    "import matplotlib.pyplot as plt\n",
    "import os\n",
    "import pandas as pd\n",
    "import tensorflow as tf\n",
    "from tensorflow.keras.preprocessing.image import ImageDataGenerator, load_img, img_to_array\n",
    "from tensorflow.keras.models import Sequential, Model, load_model\n",
    "from tensorflow.keras.layers import Dense, Dropout, Activation, Flatten, Conv2D, MaxPool2D\n",
    "from tensorflow.keras.optimizers import Adam\n",
    "from tensorflow.keras import regularizers\n",
    "import cv2\n",
    "import csv"
   ]
  },
  {
   "cell_type": "code",
   "execution_count": 2,
   "metadata": {},
   "outputs": [],
   "source": [
    "tf.keras.backend.set_image_data_format('channels_last')"
   ]
  },
  {
   "cell_type": "code",
   "execution_count": 3,
   "metadata": {},
   "outputs": [],
   "source": [
    "train_path = './data/train/'\n",
    "valid_path = './data/valid'\n",
    "test_path = './data/test'"
   ]
  },
  {
   "cell_type": "code",
   "execution_count": 4,
   "metadata": {},
   "outputs": [],
   "source": [
    "train_csv = './data/train.csv'\n",
    "valid_csv = './data/valid.csv'\n",
    "test_csv = './data/test.csv'"
   ]
  },
  {
   "cell_type": "markdown",
   "metadata": {},
   "source": [
    "### Pre-processing Data"
   ]
  },
  {
   "cell_type": "code",
   "execution_count": 5,
   "metadata": {},
   "outputs": [],
   "source": [
    "def append_ext(fn):    # Helper function to append extention name for image id\n",
    "    return fn + \".jpg\""
   ]
  },
  {
   "cell_type": "code",
   "execution_count": 7,
   "metadata": {},
   "outputs": [],
   "source": [
    "train_df = pd.read_csv(train_csv)"
   ]
  },
  {
   "cell_type": "code",
   "execution_count": 8,
   "metadata": {},
   "outputs": [
    {
     "data": {
      "text/html": [
       "<div>\n",
       "<style scoped>\n",
       "    .dataframe tbody tr th:only-of-type {\n",
       "        vertical-align: middle;\n",
       "    }\n",
       "\n",
       "    .dataframe tbody tr th {\n",
       "        vertical-align: top;\n",
       "    }\n",
       "\n",
       "    .dataframe thead th {\n",
       "        text-align: right;\n",
       "    }\n",
       "</style>\n",
       "<table border=\"1\" class=\"dataframe\">\n",
       "  <thead>\n",
       "    <tr style=\"text-align: right;\">\n",
       "      <th></th>\n",
       "      <th>image_id</th>\n",
       "      <th>breed</th>\n",
       "    </tr>\n",
       "  </thead>\n",
       "  <tbody>\n",
       "    <tr>\n",
       "      <th>0</th>\n",
       "      <td>a8b3ad1dde</td>\n",
       "      <td>nerodia-erythrogaster</td>\n",
       "    </tr>\n",
       "    <tr>\n",
       "      <th>1</th>\n",
       "      <td>8b492b973d</td>\n",
       "      <td>pantherophis-vulpinus</td>\n",
       "    </tr>\n",
       "    <tr>\n",
       "      <th>2</th>\n",
       "      <td>929b99ea92</td>\n",
       "      <td>thamnophis-sirtalis</td>\n",
       "    </tr>\n",
       "    <tr>\n",
       "      <th>3</th>\n",
       "      <td>bbac7385e2</td>\n",
       "      <td>pantherophis-obsoletus</td>\n",
       "    </tr>\n",
       "    <tr>\n",
       "      <th>4</th>\n",
       "      <td>ef776b1488</td>\n",
       "      <td>agkistrodon-contortrix</td>\n",
       "    </tr>\n",
       "    <tr>\n",
       "      <th>...</th>\n",
       "      <td>...</td>\n",
       "      <td>...</td>\n",
       "    </tr>\n",
       "    <tr>\n",
       "      <th>5503</th>\n",
       "      <td>5f0c970adf</td>\n",
       "      <td>lampropeltis-triangulum</td>\n",
       "    </tr>\n",
       "    <tr>\n",
       "      <th>5504</th>\n",
       "      <td>f6a4287fac</td>\n",
       "      <td>pantherophis-alleghaniensis</td>\n",
       "    </tr>\n",
       "    <tr>\n",
       "      <th>5505</th>\n",
       "      <td>d3c10e63e1</td>\n",
       "      <td>thamnophis-sirtalis</td>\n",
       "    </tr>\n",
       "    <tr>\n",
       "      <th>5506</th>\n",
       "      <td>61ef50879c</td>\n",
       "      <td>pituophis-catenifer</td>\n",
       "    </tr>\n",
       "    <tr>\n",
       "      <th>5507</th>\n",
       "      <td>4791d8bf9a</td>\n",
       "      <td>lampropeltis-triangulum</td>\n",
       "    </tr>\n",
       "  </tbody>\n",
       "</table>\n",
       "<p>5508 rows × 2 columns</p>\n",
       "</div>"
      ],
      "text/plain": [
       "        image_id                        breed\n",
       "0     a8b3ad1dde        nerodia-erythrogaster\n",
       "1     8b492b973d        pantherophis-vulpinus\n",
       "2     929b99ea92          thamnophis-sirtalis\n",
       "3     bbac7385e2       pantherophis-obsoletus\n",
       "4     ef776b1488       agkistrodon-contortrix\n",
       "...          ...                          ...\n",
       "5503  5f0c970adf      lampropeltis-triangulum\n",
       "5504  f6a4287fac  pantherophis-alleghaniensis\n",
       "5505  d3c10e63e1          thamnophis-sirtalis\n",
       "5506  61ef50879c          pituophis-catenifer\n",
       "5507  4791d8bf9a      lampropeltis-triangulum\n",
       "\n",
       "[5508 rows x 2 columns]"
      ]
     },
     "execution_count": 8,
     "metadata": {},
     "output_type": "execute_result"
    }
   ],
   "source": [
    "train_df"
   ]
  },
  {
   "cell_type": "code",
   "execution_count": 7,
   "metadata": {},
   "outputs": [],
   "source": [
    "train_df[\"image_id\"] = train_df[\"image_id\"].apply(append_ext)"
   ]
  },
  {
   "cell_type": "code",
   "execution_count": 8,
   "metadata": {},
   "outputs": [],
   "source": [
    "valid_df[\"image_id\"] = valid_df[\"image_id\"].apply(append_ext)"
   ]
  },
  {
   "cell_type": "code",
   "execution_count": 9,
   "metadata": {},
   "outputs": [],
   "source": [
    "test_df[\"image_id\"] = test_df[\"image_id\"].apply(append_ext)"
   ]
  },
  {
   "cell_type": "code",
   "execution_count": 11,
   "metadata": {},
   "outputs": [],
   "source": [
    "IMG_DIM=224\n",
    "bs = 64"
   ]
  },
  {
   "cell_type": "code",
   "execution_count": 12,
   "metadata": {},
   "outputs": [],
   "source": [
    "datagen = ImageDataGenerator(\n",
    "    rotation_range=90,\n",
    "    width_shift_range=0.2,\n",
    "    height_shift_range=0.2,\n",
    "    zoom_range=[0.5, 1.0],\n",
    "    brightness_range=[0.2, 1.0],\n",
    "    horizontal_flip=True,\n",
    ")"
   ]
  },
  {
   "cell_type": "code",
   "execution_count": 13,
   "metadata": {},
   "outputs": [
    {
     "name": "stdout",
     "output_type": "stream",
     "text": [
      "Found 4958 validated image filenames belonging to 35 classes.\n"
     ]
    }
   ],
   "source": [
    "train_batches = datagen.flow_from_dataframe(\n",
    "    train_df,\n",
    "    directory=train_path,\n",
    "    target_size=(IMG_DIM,IMG_DIM),\n",
    "    x_col=\"image_id\",\n",
    "    y_col=\"breed\",\n",
    "    batch_size=bs\n",
    ")"
   ]
  },
  {
   "cell_type": "code",
   "execution_count": null,
   "metadata": {},
   "outputs": [],
   "source": [
    "valid_batches = datagen.flow_from_dataframe(\n",
    "    valid_df, \n",
    "    directory=train_path,\n",
    "    target_size=(IMG_DIM, IMG_DIM),\n",
    "    x_col = \"image_id\",\n",
    "    y_col = \"breed\",\n",
    "    batch_size = bs\n",
    ")"
   ]
  },
  {
   "cell_type": "markdown",
   "metadata": {},
   "source": [
    "### Sample Image preview"
   ]
  },
  {
   "cell_type": "code",
   "execution_count": 15,
   "metadata": {},
   "outputs": [
    {
     "data": {
      "image/png": "[encoded data removed]",
      "text/plain": [
       "<Figure size 432x288 with 9 Axes>"
      ]
     },
     "metadata": {
      "needs_background": "light"
     },
     "output_type": "display_data"
    }
   ],
   "source": [
    "img = load_img(\"./data/train/0002023e6f.jpg\")     # Sample Image\n",
    "data = img_to_array(img)\n",
    "\n",
    "samples = np.expand_dims(data, 0)\n",
    "\n",
    "it = datagen.flow(samples, batch_size=1)\n",
    "for i in range(9):\n",
    "    plt.subplot(330 + 1 + i)\n",
    "    batch = it.next()\n",
    "    image = batch[0].astype('uint8')\n",
    "    plt.imshow(image)\n",
    "\n",
    "plt.show()"
   ]
  },
  {
   "cell_type": "markdown",
   "metadata": {},
   "source": [
    "## Transfer Learning using VGG16\n"
   ]
  },
  {
   "cell_type": "code",
   "execution_count": 3,
   "metadata": {},
   "outputs": [],
   "source": [
    "NAME = \"vgg16withLastUnfrozen\""
   ]
  },
  {
   "cell_type": "code",
   "execution_count": 5,
   "metadata": {},
   "outputs": [],
   "source": [
    "vgg = tf.keras.applications.vgg16.VGG16()"
   ]
  },
  {
   "cell_type": "code",
   "execution_count": 6,
   "metadata": {},
   "outputs": [],
   "source": [
    "model = Sequential()"
   ]
  },
  {
   "cell_type": "code",
   "execution_count": 7,
   "metadata": {},
   "outputs": [],
   "source": [
    "for layer in vgg.layers[:-1]:\n",
    "    model.add(layer)"
   ]
  },
  {
   "cell_type": "code",
   "execution_count": 8,
   "metadata": {},
   "outputs": [],
   "source": [
    "for layer in model.layers:\n",
    "    layer.trainable = False"
   ]
  },
  {
   "cell_type": "markdown",
   "metadata": {},
   "source": [
    "### VGG16 with last 4 layers trainable"
   ]
  },
  {
   "cell_type": "code",
   "execution_count": 2,
   "metadata": {},
   "outputs": [],
   "source": [
    "ep =30"
   ]
  },
  {
   "cell_type": "code",
   "execution_count": 86,
   "metadata": {},
   "outputs": [],
   "source": [
    "NAME=\"VGG16WithLast4Frozzen\""
   ]
  },
  {
   "cell_type": "code",
   "execution_count": 87,
   "metadata": {},
   "outputs": [],
   "source": [
    "vgg = tf.keras.applications.vgg16.VGG16()"
   ]
  },
  {
   "cell_type": "code",
   "execution_count": 88,
   "metadata": {},
   "outputs": [],
   "source": [
    "model = Sequential()"
   ]
  },
  {
   "cell_type": "code",
   "execution_count": 89,
   "metadata": {},
   "outputs": [],
   "source": [
    "for layer in vgg.layers[:-1]:\n",
    "    model.add(layer)\n",
    "for layer in model.layers[:-5]:\n",
    "    layer.trainable = False"
   ]
  },
  {
   "cell_type": "code",
   "execution_count": 90,
   "metadata": {},
   "outputs": [],
   "source": [
    "# Dense\n",
    "model.add(Dense(512, activation=\"relu\"))\n",
    "model.add(Dropout(0.5))\n",
    "\n",
    "#Output\n",
    "model.add(Dense(35, activation=\"softmax\"))"
   ]
  },
  {
   "cell_type": "code",
   "execution_count": 91,
   "metadata": {},
   "outputs": [],
   "source": [
    "model.compile(optimizer=Adam(learning_rate=0.0001), loss=\"categorical_crossentropy\", metrics=[\"accuracy\"])"
   ]
  },
  {
   "cell_type": "code",
   "execution_count": null,
   "metadata": {},
   "outputs": [],
   "source": []
  },
  {
   "cell_type": "code",
   "execution_count": null,
   "metadata": {},
   "outputs": [
    {
     "name": "stdout",
     "output_type": "stream",
     "text": [
      "Epoch 1/30\n",
      "WARNING:tensorflow:AutoGraph could not transform <function Model.make_train_function.<locals>.train_function at 0x000001B02ED65EE8> and will run it as-is.\n",
      "Please report this to the TensorFlow team. When filing the bug, set the verbosity to 10 (on Linux, `export AUTOGRAPH_VERBOSITY=10`) and attach the full output.\n",
      "Cause: 'arguments' object has no attribute 'posonlyargs'\n",
      "To silence this warning, decorate the function with @tf.autograph.experimental.do_not_convert\n",
      "WARNING: AutoGraph could not transform <function Model.make_train_function.<locals>.train_function at 0x000001B02ED65EE8> and will run it as-is.\n",
      "Please report this to the TensorFlow team. When filing the bug, set the verbosity to 10 (on Linux, `export AUTOGRAPH_VERBOSITY=10`) and attach the full output.\n",
      "Cause: 'arguments' object has no attribute 'posonlyargs'\n",
      "To silence this warning, decorate the function with @tf.autograph.experimental.do_not_convert\n",
      "154/154 [==============================] - ETA: 0s - loss: 3.5051 - accuracy: 0.0926WARNING:tensorflow:AutoGraph could not transform <function Model.make_test_function.<locals>.test_function at 0x000001B0192A8CA8> and will run it as-is.\n",
      "Please report this to the TensorFlow team. When filing the bug, set the verbosity to 10 (on Linux, `export AUTOGRAPH_VERBOSITY=10`) and attach the full output.\n",
      "Cause: 'arguments' object has no attribute 'posonlyargs'\n",
      "To silence this warning, decorate the function with @tf.autograph.experimental.do_not_convert\n",
      "WARNING: AutoGraph could not transform <function Model.make_test_function.<locals>.test_function at 0x000001B0192A8CA8> and will run it as-is.\n",
      "Please report this to the TensorFlow team. When filing the bug, set the verbosity to 10 (on Linux, `export AUTOGRAPH_VERBOSITY=10`) and attach the full output.\n",
      "Cause: 'arguments' object has no attribute 'posonlyargs'\n",
      "To silence this warning, decorate the function with @tf.autograph.experimental.do_not_convert\n",
      "154/154 [==============================] - 1166s 8s/step - loss: 3.5051 - accuracy: 0.0926 - val_loss: 3.2411 - val_accuracy: 0.1489\n",
      "Epoch 2/30\n",
      "154/154 [==============================] - 1117s 7s/step - loss: 3.2817 - accuracy: 0.1332 - val_loss: 3.1540 - val_accuracy: 0.1765\n",
      "Epoch 3/30\n",
      "154/154 [==============================] - 1147s 7s/step - loss: 3.1965 - accuracy: 0.1533 - val_loss: 3.0719 - val_accuracy: 0.2040\n",
      "Epoch 4/30\n",
      "154/154 [==============================] - 1150s 7s/step - loss: 3.0998 - accuracy: 0.1717 - val_loss: 3.0059 - val_accuracy: 0.1949\n",
      "Epoch 5/30\n",
      "154/154 [==============================] - 1154s 7s/step - loss: 3.0220 - accuracy: 0.2022 - val_loss: 3.0282 - val_accuracy: 0.1912\n",
      "Epoch 6/30\n",
      "154/154 [==============================] - 1150s 7s/step - loss: 2.9484 - accuracy: 0.2142 - val_loss: 2.9317 - val_accuracy: 0.2279\n",
      "Epoch 7/30\n",
      "154/154 [==============================] - 1145s 7s/step - loss: 2.8978 - accuracy: 0.2134 - val_loss: 2.9526 - val_accuracy: 0.2077\n",
      "Epoch 8/30\n",
      "154/154 [==============================] - 1137s 7s/step - loss: 2.8312 - accuracy: 0.2414 - val_loss: 2.9742 - val_accuracy: 0.2096\n",
      "Epoch 9/30\n",
      "154/154 [==============================] - 1152s 7s/step - loss: 2.7528 - accuracy: 0.2487 - val_loss: 2.9248 - val_accuracy: 0.2004\n",
      "Epoch 10/30\n",
      "154/154 [==============================] - 1133s 7s/step - loss: 2.7184 - accuracy: 0.2692 - val_loss: 2.9135 - val_accuracy: 0.2114\n",
      "Epoch 11/30\n",
      "135/154 [=========================>....] - ETA: 2:05 - loss: 2.6501 - accuracy: 0.2849"
     ]
    }
   ],
   "source": [
    "model.fit(\n",
    "    x=train_batches,\n",
    "    steps_per_epoch= train_batches.n // train_batches.batch_size,\n",
    "    validation_data= valid_batches,\n",
    "    validation_steps= valid_batches.n // valid_batches.batch_size,\n",
    "    epochs=ep\n",
    ")"
   ]
  },
  {
   "cell_type": "code",
   "execution_count": null,
   "metadata": {},
   "outputs": [],
   "source": [
    "model.save(NAME)"
   ]
  },
  {
   "cell_type": "markdown",
   "metadata": {},
   "source": [
    "## Prediction\n",
    "\n",
    "Helper function to convert the test data into a readable format"
   ]
  },
  {
   "cell_type": "code",
   "execution_count": null,
   "metadata": {},
   "outputs": [],
   "source": [
    "\n",
    "def create_test_data():\n",
    "    images = []      # List contains path of all the testing images in right seq\n",
    "    test_data = []\n",
    "    df = pd.read_csv(test_csv)    # Path to test csv file\n",
    "    names_df = df[\"image_id\"].apply(append_ext)    # Adding jpg exten to the image name\n",
    "    for img in names_df:\n",
    "        img_path = os.path.join(test_path, img)\n",
    "        images.append(img_path)\n",
    "    for img_path in images:\n",
    "        try:\n",
    "            img_array = cv2.imread(img_path, cv2.COLOR_BGR2RGB)   # convert to img to arr\n",
    "            new_array = cv2.resize(img_array, (224, 224))  # resize to same format\n",
    "            test_data.append(new_array.reshape(224, 224, 3))     \n",
    "        except Exception as e:\n",
    "            pass\n",
    "        \n",
    "        return test_data\n",
    "\n",
    "    \n",
    "test_data = np.array(create_test_data())    # Convert the returned array to numpy arr\n",
    "\n",
    "    \n",
    "    \n",
    "    \n",
    "    \n"
   ]
  },
  {
   "cell_type": "code",
   "execution_count": null,
   "metadata": {},
   "outputs": [],
   "source": [
    "prediction = model.predict(test_data)"
   ]
  },
  {
   "cell_type": "code",
   "execution_count": null,
   "metadata": {},
   "outputs": [],
   "source": [
    "results = []\n",
    "for i in prediction:\n",
    "    result.append(np.argmax(i))"
   ]
  },
  {
   "cell_type": "markdown",
   "metadata": {},
   "source": [
    "A function to save the predictions to the csv file format req\n"
   ]
  },
  {
   "cell_type": "code",
   "execution_count": null,
   "metadata": {},
   "outputs": [],
   "source": [
    "def save_results(results):\n",
    "    images = pd.read_csv(test_csv)[\"image_id\"]\n",
    "    with open(\"results.csv\", \"w\", newline=\"\") as f:\n",
    "        w = csv.writer(f)\n",
    "        w.writerow([\"image_id\", \"breed\"])\n",
    "        for i in range(len(images)):\n",
    "            res = str(cats[results[i]])\n",
    "            img = images[i]\n",
    "            w.writerow([img, res])\n",
    "save_results(results)"
   ]
  },
  {
   "cell_type": "code",
   "execution_count": null,
   "metadata": {},
   "outputs": [],
   "source": []
  },
  {
   "cell_type": "code",
   "execution_count": null,
   "metadata": {},
   "outputs": [],
   "source": []
  },
  {
   "cell_type": "code",
   "execution_count": null,
   "metadata": {},
   "outputs": [],
   "source": []
  },
  {
   "cell_type": "code",
   "execution_count": null,
   "metadata": {},
   "outputs": [],
   "source": []
  },
  {
   "cell_type": "code",
   "execution_count": null,
   "metadata": {},
   "outputs": [],
   "source": []
  },
  {
   "cell_type": "code",
   "execution_count": null,
   "metadata": {},
   "outputs": [],
   "source": []
  },
  {
   "cell_type": "code",
   "execution_count": null,
   "metadata": {},
   "outputs": [],
   "source": []
  },
  {
   "cell_type": "markdown",
   "metadata": {},
   "source": [
    "### Prediction\n"
   ]
  },
  {
   "cell_type": "markdown",
   "metadata": {},
   "source": [
    "Helper function to onvert the testing images into readable format"
   ]
  },
  {
   "cell_type": "code",
   "execution_count": 23,
   "metadata": {},
   "outputs": [
    {
     "name": "stdout",
     "output_type": "stream",
     "text": [
      "(2361, 224, 224, 3)\n"
     ]
    }
   ],
   "source": [
    "\n",
    "def create_test_data():\n",
    "    images = []       # List containes path of all the testing images in right seq\n",
    "    test_data = []    \n",
    "    df = pd.read_csv(test_csv)\n",
    "    names_df = df['image_id'].apply(append_ext)\n",
    "    for img in names_df:\n",
    "        img_path = os.path.join(test_path, img)\n",
    "        images.append(img_path)        \n",
    "    for img_path in images:\n",
    "        try:\n",
    "            img_array = cv2.imread(img_path ,cv2.COLOR_BGR2RGB)  # convert to array\n",
    "            new_array = cv2.resize(img_array, (224, 224))  # resize to normalize data size\n",
    "            test_data.append(new_array.reshape(224, 224, 3))  # add this to our training_data\n",
    "\n",
    "        except Exception as e:\n",
    "            print(\"Error !!\")\n",
    "            print(e)\n",
    "            pass\n",
    "    return test_data\n",
    "test_data = np.array(create_test_data())\n",
    "print(test_data.shape)"
   ]
  },
  {
   "cell_type": "code",
   "execution_count": 47,
   "metadata": {},
   "outputs": [
    {
     "name": "stdout",
     "output_type": "stream",
     "text": [
      "WARNING:tensorflow:AutoGraph could not transform <function Model.make_predict_function.<locals>.predict_function at 0x000001B02EC9B708> and will run it as-is.\n",
      "Please report this to the TensorFlow team. When filing the bug, set the verbosity to 10 (on Linux, `export AUTOGRAPH_VERBOSITY=10`) and attach the full output.\n",
      "Cause: 'arguments' object has no attribute 'posonlyargs'\n",
      "To silence this warning, decorate the function with @tf.autograph.experimental.do_not_convert\n",
      "WARNING: AutoGraph could not transform <function Model.make_predict_function.<locals>.predict_function at 0x000001B02EC9B708> and will run it as-is.\n",
      "Please report this to the TensorFlow team. When filing the bug, set the verbosity to 10 (on Linux, `export AUTOGRAPH_VERBOSITY=10`) and attach the full output.\n",
      "Cause: 'arguments' object has no attribute 'posonlyargs'\n",
      "To silence this warning, decorate the function with @tf.autograph.experimental.do_not_convert\n"
     ]
    }
   ],
   "source": [
    "prediction = model.predict(test_data)"
   ]
  },
  {
   "cell_type": "code",
   "execution_count": 24,
   "metadata": {},
   "outputs": [
    {
     "ename": "NameError",
     "evalue": "name 'prediction' is not defined",
     "output_type": "error",
     "traceback": [
      "\u001b[1;31m-----------------------------------------------------------------------\u001b[0m",
      "\u001b[1;31mNameError\u001b[0m                             Traceback (most recent call last)",
      "\u001b[1;32m<ipython-input-24-acd6d1d07608>\u001b[0m in \u001b[0;36m<module>\u001b[1;34m\u001b[0m\n\u001b[0;32m      1\u001b[0m \u001b[0mresults\u001b[0m \u001b[1;33m=\u001b[0m \u001b[1;33m[\u001b[0m\u001b[1;33m]\u001b[0m\u001b[1;33m\u001b[0m\u001b[1;33m\u001b[0m\u001b[0m\n\u001b[1;32m----> 2\u001b[1;33m \u001b[1;32mfor\u001b[0m \u001b[0mi\u001b[0m \u001b[1;32min\u001b[0m \u001b[0mprediction\u001b[0m\u001b[1;33m:\u001b[0m\u001b[1;33m\u001b[0m\u001b[1;33m\u001b[0m\u001b[0m\n\u001b[0m\u001b[0;32m      3\u001b[0m     \u001b[0mresults\u001b[0m\u001b[1;33m.\u001b[0m\u001b[0mappend\u001b[0m\u001b[1;33m(\u001b[0m\u001b[0mnp\u001b[0m\u001b[1;33m.\u001b[0m\u001b[0margmax\u001b[0m\u001b[1;33m(\u001b[0m\u001b[0mi\u001b[0m\u001b[1;33m)\u001b[0m\u001b[1;33m)\u001b[0m\u001b[1;33m\u001b[0m\u001b[1;33m\u001b[0m\u001b[0m\n\u001b[0;32m      4\u001b[0m \u001b[0mresults\u001b[0m\u001b[1;33m[\u001b[0m\u001b[1;33m:\u001b[0m\u001b[1;36m5\u001b[0m\u001b[1;33m]\u001b[0m\u001b[1;33m\u001b[0m\u001b[1;33m\u001b[0m\u001b[0m\n",
      "\u001b[1;31mNameError\u001b[0m: name 'prediction' is not defined"
     ]
    }
   ],
   "source": [
    "results = []\n",
    "for i in prediction:\n",
    "    results.append(np.argmax(i))\n",
    "results[:5]"
   ]
  },
  {
   "cell_type": "code",
   "execution_count": 51,
   "metadata": {},
   "outputs": [
    {
     "data": {
      "text/html": [
       "<div>\n",
       "<style scoped>\n",
       "    .dataframe tbody tr th:only-of-type {\n",
       "        vertical-align: middle;\n",
       "    }\n",
       "\n",
       "    .dataframe tbody tr th {\n",
       "        vertical-align: top;\n",
       "    }\n",
       "\n",
       "    .dataframe thead th {\n",
       "        text-align: right;\n",
       "    }\n",
       "</style>\n",
       "<table border=\"1\" class=\"dataframe\">\n",
       "  <thead>\n",
       "    <tr style=\"text-align: right;\">\n",
       "      <th></th>\n",
       "      <th>image_id</th>\n",
       "    </tr>\n",
       "  </thead>\n",
       "  <tbody>\n",
       "    <tr>\n",
       "      <th>0</th>\n",
       "      <td>7ede553357</td>\n",
       "    </tr>\n",
       "    <tr>\n",
       "      <th>1</th>\n",
       "      <td>3500b219e4</td>\n",
       "    </tr>\n",
       "    <tr>\n",
       "      <th>2</th>\n",
       "      <td>d43a78d6d9</td>\n",
       "    </tr>\n",
       "    <tr>\n",
       "      <th>3</th>\n",
       "      <td>1f36f26994</td>\n",
       "    </tr>\n",
       "    <tr>\n",
       "      <th>4</th>\n",
       "      <td>8cb85fc58e</td>\n",
       "    </tr>\n",
       "  </tbody>\n",
       "</table>\n",
       "</div>"
      ],
      "text/plain": [
       "     image_id\n",
       "0  7ede553357\n",
       "1  3500b219e4\n",
       "2  d43a78d6d9\n",
       "3  1f36f26994\n",
       "4  8cb85fc58e"
      ]
     },
     "execution_count": 51,
     "metadata": {},
     "output_type": "execute_result"
    }
   ],
   "source": [
    "test_df = pd.read_csv(test_csv)\n",
    "test_df[:5]"
   ]
  },
  {
   "cell_type": "code",
   "execution_count": 63,
   "metadata": {},
   "outputs": [
    {
     "data": {
      "text/plain": [
       "['agkistrodon-contortrix',\n",
       " 'agkistrodon-piscivorus',\n",
       " 'coluber-constrictor',\n",
       " 'crotalus-atrox',\n",
       " 'crotalus-horridus',\n",
       " 'crotalus-ruber',\n",
       " 'crotalus-scutulatus',\n",
       " 'crotalus-viridis',\n",
       " 'diadophis-punctatus',\n",
       " 'haldea-striatula',\n",
       " 'heterodon-platirhinos',\n",
       " 'lampropeltis-californiae',\n",
       " 'lampropeltis-triangulum',\n",
       " 'masticophis-flagellum',\n",
       " 'natrix-natrix',\n",
       " 'nerodia-erythrogaster',\n",
       " 'nerodia-fasciata',\n",
       " 'nerodia-rhombifer',\n",
       " 'nerodia-sipedon',\n",
       " 'opheodrys-aestivus',\n",
       " 'pantherophis-alleghaniensis',\n",
       " 'pantherophis-emoryi',\n",
       " 'pantherophis-guttatus',\n",
       " 'pantherophis-obsoletus',\n",
       " 'pantherophis-spiloides',\n",
       " 'pantherophis-vulpinus',\n",
       " 'pituophis-catenifer',\n",
       " 'rhinocheilus-lecontei',\n",
       " 'storeria-dekayi',\n",
       " 'storeria-occipitomaculata',\n",
       " 'thamnophis-elegans',\n",
       " 'thamnophis-marcianus',\n",
       " 'thamnophis-proximus',\n",
       " 'thamnophis-radix',\n",
       " 'thamnophis-sirtalis']"
      ]
     },
     "execution_count": 63,
     "metadata": {},
     "output_type": "execute_result"
    }
   ],
   "source": [
    "cats = train_batches.class_indices.keys()\n",
    "cats = list(cats)\n",
    "cats"
   ]
  },
  {
   "cell_type": "code",
   "execution_count": 22,
   "metadata": {},
   "outputs": [
    {
     "ename": "NameError",
     "evalue": "name 'results' is not defined",
     "output_type": "error",
     "traceback": [
      "\u001b[1;31m-----------------------------------------------------------------------\u001b[0m",
      "\u001b[1;31mNameError\u001b[0m                             Traceback (most recent call last)",
      "\u001b[1;32m<ipython-input-22-ee404e40ad9d>\u001b[0m in \u001b[0;36m<module>\u001b[1;34m\u001b[0m\n\u001b[0;32m      8\u001b[0m             \u001b[0mimg\u001b[0m \u001b[1;33m=\u001b[0m \u001b[0mimages\u001b[0m\u001b[1;33m[\u001b[0m\u001b[0mi\u001b[0m\u001b[1;33m]\u001b[0m\u001b[1;33m\u001b[0m\u001b[1;33m\u001b[0m\u001b[0m\n\u001b[0;32m      9\u001b[0m             \u001b[0mw\u001b[0m\u001b[1;33m.\u001b[0m\u001b[0mwriterow\u001b[0m\u001b[1;33m(\u001b[0m\u001b[1;33m[\u001b[0m\u001b[0mimg\u001b[0m\u001b[1;33m,\u001b[0m \u001b[0mres\u001b[0m\u001b[1;33m]\u001b[0m\u001b[1;33m)\u001b[0m\u001b[1;33m\u001b[0m\u001b[1;33m\u001b[0m\u001b[0m\n\u001b[1;32m---> 10\u001b[1;33m \u001b[0msave_results\u001b[0m\u001b[1;33m(\u001b[0m\u001b[0mresults\u001b[0m\u001b[1;33m)\u001b[0m\u001b[1;33m\u001b[0m\u001b[1;33m\u001b[0m\u001b[0m\n\u001b[0m",
      "\u001b[1;31mNameError\u001b[0m: name 'results' is not defined"
     ]
    }
   ],
   "source": [
    "def save_results(results):\n",
    "    images = pd.read_csv(test_csv)[\"image_id\"]\n",
    "    with open(\"results.csv\", \"w\", newline=\"\") as f:\n",
    "        w = csv.writer(f)\n",
    "        w.writerow([\"image_id\", \"breed\"])\n",
    "        for i in range(len(images)):\n",
    "            res = str(cats[results[i]])\n",
    "            img = images[i]\n",
    "            w.writerow([img, res])\n",
    "save_results(results)"
   ]
  },
  {
   "cell_type": "code",
   "execution_count": null,
   "metadata": {},
   "outputs": [],
   "source": []
  },
  {
   "cell_type": "markdown",
   "metadata": {},
   "source": [
    "## VGG With last 5 trainable layers and learning rate = 3e-4"
   ]
  },
  {
   "cell_type": "code",
   "execution_count": 47,
   "metadata": {},
   "outputs": [],
   "source": [
    "NAME=\"VGG16WithLast5UnFrozzenAndLr3e-4\""
   ]
  },
  {
   "cell_type": "code",
   "execution_count": 48,
   "metadata": {},
   "outputs": [],
   "source": [
    "vgg = tf.keras.applications.vgg16.VGG16()"
   ]
  },
  {
   "cell_type": "code",
   "execution_count": 49,
   "metadata": {},
   "outputs": [],
   "source": [
    "model = Sequential()"
   ]
  },
  {
   "cell_type": "code",
   "execution_count": 50,
   "metadata": {},
   "outputs": [],
   "source": [
    "for layer in vgg.layers[:-1]:\n",
    "    model.add(layer)\n",
    "for layer in model.layers[:-5]:\n",
    "    layer.trainable = False"
   ]
  },
  {
   "cell_type": "code",
   "execution_count": 51,
   "metadata": {},
   "outputs": [],
   "source": [
    "# Dense\n",
    "model.add(Dense(256, activation=\"relu\"))\n",
    "model.add(Dropout(0.5))\n",
    "\n",
    "#Output\n",
    "model.add(Dense(35, activation=\"softmax\"))"
   ]
  },
  {
   "cell_type": "code",
   "execution_count": 52,
   "metadata": {},
   "outputs": [],
   "source": [
    "model.compile(optimizer=Adam(learning_rate=3e-4), loss=\"categorical_crossentropy\", metrics=[\"accuracy\"])"
   ]
  },
  {
   "cell_type": "code",
   "execution_count": 53,
   "metadata": {},
   "outputs": [
    {
     "data": {
      "text/plain": [
       "64"
      ]
     },
     "execution_count": 53,
     "metadata": {},
     "output_type": "execute_result"
    }
   ],
   "source": [
    "valid_batches.batch_size"
   ]
  },
  {
   "cell_type": "code",
   "execution_count": null,
   "metadata": {},
   "outputs": [],
   "source": []
  },
  {
   "cell_type": "code",
   "execution_count": 54,
   "metadata": {},
   "outputs": [
    {
     "name": "stdout",
     "output_type": "stream",
     "text": [
      "Epoch 1/20\n",
      "WARNING:tensorflow:AutoGraph could not transform <function Model.make_train_function.<locals>.train_function at 0x0000026F9DD78C18> and will run it as-is.\n",
      "Please report this to the TensorFlow team. When filing the bug, set the verbosity to 10 (on Linux, `export AUTOGRAPH_VERBOSITY=10`) and attach the full output.\n",
      "Cause: 'arguments' object has no attribute 'posonlyargs'\n",
      "To silence this warning, decorate the function with @tf.autograph.experimental.do_not_convert\n",
      "WARNING: AutoGraph could not transform <function Model.make_train_function.<locals>.train_function at 0x0000026F9DD78C18> and will run it as-is.\n",
      "Please report this to the TensorFlow team. When filing the bug, set the verbosity to 10 (on Linux, `export AUTOGRAPH_VERBOSITY=10`) and attach the full output.\n",
      "Cause: 'arguments' object has no attribute 'posonlyargs'\n",
      "To silence this warning, decorate the function with @tf.autograph.experimental.do_not_convert\n",
      "77/77 [==============================] - ETA: 0s - loss: 3.4723 - accuracy: 0.0954 WARNING:tensorflow:AutoGraph could not transform <function Model.make_test_function.<locals>.test_function at 0x0000026F9DD65288> and will run it as-is.\n",
      "Please report this to the TensorFlow team. When filing the bug, set the verbosity to 10 (on Linux, `export AUTOGRAPH_VERBOSITY=10`) and attach the full output.\n",
      "Cause: 'arguments' object has no attribute 'posonlyargs'\n",
      "To silence this warning, decorate the function with @tf.autograph.experimental.do_not_convert\n",
      "WARNING: AutoGraph could not transform <function Model.make_test_function.<locals>.test_function at 0x0000026F9DD65288> and will run it as-is.\n",
      "Please report this to the TensorFlow team. When filing the bug, set the verbosity to 10 (on Linux, `export AUTOGRAPH_VERBOSITY=10`) and attach the full output.\n",
      "Cause: 'arguments' object has no attribute 'posonlyargs'\n",
      "To silence this warning, decorate the function with @tf.autograph.experimental.do_not_convert\n",
      "77/77 [==============================] - 1487s 19s/step - loss: 3.4723 - accuracy: 0.0954 - val_loss: 3.1525 - val_accuracy: 0.1602\n",
      "Epoch 2/20\n",
      "77/77 [==============================] - 1453s 19s/step - loss: 3.2300 - accuracy: 0.1485 - val_loss: 3.1141 - val_accuracy: 0.1641\n",
      "Epoch 3/20\n",
      "77/77 [==============================] - 1649s 21s/step - loss: 3.1607 - accuracy: 0.1659 - val_loss: 3.1649 - val_accuracy: 0.1777\n",
      "Epoch 4/20\n",
      "77/77 [==============================] - 1140s 15s/step - loss: 3.0914 - accuracy: 0.1896 - val_loss: 3.1208 - val_accuracy: 0.1484\n",
      "Epoch 5/20\n",
      "77/77 [==============================] - 1038s 13s/step - loss: 3.0529 - accuracy: 0.1874 - val_loss: 3.0726 - val_accuracy: 0.2109\n",
      "Epoch 6/20\n",
      "77/77 [==============================] - 1039s 13s/step - loss: 2.9999 - accuracy: 0.2027 - val_loss: 3.0494 - val_accuracy: 0.1953\n",
      "Epoch 7/20\n",
      "77/77 [==============================] - 1039s 13s/step - loss: 2.9409 - accuracy: 0.2127 - val_loss: 2.9569 - val_accuracy: 0.2168\n",
      "Epoch 8/20\n",
      "77/77 [==============================] - 1064s 14s/step - loss: 2.9331 - accuracy: 0.2162 - val_loss: 2.9230 - val_accuracy: 0.2207\n",
      "Epoch 9/20\n",
      "77/77 [==============================] - 1040s 14s/step - loss: 2.8809 - accuracy: 0.2338 - val_loss: 2.8715 - val_accuracy: 0.2461\n",
      "Epoch 10/20\n",
      "77/77 [==============================] - 1048s 14s/step - loss: 2.8455 - accuracy: 0.2380 - val_loss: 2.9534 - val_accuracy: 0.2109\n",
      "Epoch 11/20\n",
      "77/77 [==============================] - 1046s 14s/step - loss: 2.8140 - accuracy: 0.2503 - val_loss: 2.8364 - val_accuracy: 0.2441\n",
      "Epoch 12/20\n",
      "77/77 [==============================] - 1267s 16s/step - loss: 2.8033 - accuracy: 0.2489 - val_loss: 2.8106 - val_accuracy: 0.2461\n",
      "Epoch 13/20\n",
      "77/77 [==============================] - 1384s 18s/step - loss: 2.7611 - accuracy: 0.2532 - val_loss: 2.8539 - val_accuracy: 0.2695\n",
      "Epoch 14/20\n",
      "77/77 [==============================] - 1356s 18s/step - loss: 2.7289 - accuracy: 0.2640 - val_loss: 2.7652 - val_accuracy: 0.2500\n",
      "Epoch 15/20\n",
      "77/77 [==============================] - 1047s 14s/step - loss: 2.7161 - accuracy: 0.2761 - val_loss: 2.8412 - val_accuracy: 0.2520\n",
      "Epoch 16/20\n",
      "77/77 [==============================] - 1055s 14s/step - loss: 2.7017 - accuracy: 0.2816 - val_loss: 2.7637 - val_accuracy: 0.2734\n",
      "Epoch 17/20\n",
      "77/77 [==============================] - 1049s 14s/step - loss: 2.6805 - accuracy: 0.2707 - val_loss: 2.8548 - val_accuracy: 0.2461\n",
      "Epoch 18/20\n",
      "77/77 [==============================] - 1030s 13s/step - loss: 2.6501 - accuracy: 0.2808 - val_loss: 2.7462 - val_accuracy: 0.2891\n",
      "Epoch 19/20\n",
      "77/77 [==============================] - 1025s 13s/step - loss: 2.6437 - accuracy: 0.2861 - val_loss: 2.8153 - val_accuracy: 0.2363\n",
      "Epoch 20/20\n",
      "77/77 [==============================] - 1025s 13s/step - loss: 2.6264 - accuracy: 0.2920 - val_loss: 2.8701 - val_accuracy: 0.2441\n"
     ]
    },
    {
     "data": {
      "text/plain": [
       "<tensorflow.python.keras.callbacks.History at 0x26fa5586e88>"
      ]
     },
     "execution_count": 54,
     "metadata": {},
     "output_type": "execute_result"
    }
   ],
   "source": [
    "model.fit(\n",
    "    x=train_batches,\n",
    "    steps_per_epoch= train_batches.n // train_batches.batch_size,\n",
    "    validation_data= valid_batches,\n",
    "    validation_steps= valid_batches.n // valid_batches.batch_size,\n",
    "    epochs=ep\n",
    ")"
   ]
  },
  {
   "cell_type": "code",
   "execution_count": 55,
   "metadata": {},
   "outputs": [
    {
     "name": "stdout",
     "output_type": "stream",
     "text": [
      "WARNING:tensorflow:From c:\\users\\asus\\anaconda3\\envs\\tensorflow\\lib\\site-packages\\tensorflow\\python\\training\\tracking\\tracking.py:111: Model.state_updates (from tensorflow.python.keras.engine.training) is deprecated and will be removed in a future version.\n",
      "Instructions for updating:\n",
      "This property should not be used in TensorFlow 2.0, as updates are applied automatically.\n",
      "WARNING:tensorflow:From c:\\users\\asus\\anaconda3\\envs\\tensorflow\\lib\\site-packages\\tensorflow\\python\\training\\tracking\\tracking.py:111: Layer.updates (from tensorflow.python.keras.engine.base_layer) is deprecated and will be removed in a future version.\n",
      "Instructions for updating:\n",
      "This property should not be used in TensorFlow 2.0, as updates are applied automatically.\n",
      "WARNING:tensorflow:AutoGraph could not transform <function canonicalize_signatures.<locals>.signature_wrapper at 0x0000026F9A2A3168> and will run it as-is.\n",
      "Please report this to the TensorFlow team. When filing the bug, set the verbosity to 10 (on Linux, `export AUTOGRAPH_VERBOSITY=10`) and attach the full output.\n",
      "Cause: 'arguments' object has no attribute 'posonlyargs'\n",
      "To silence this warning, decorate the function with @tf.autograph.experimental.do_not_convert\n",
      "WARNING: AutoGraph could not transform <function canonicalize_signatures.<locals>.signature_wrapper at 0x0000026F9A2A3168> and will run it as-is.\n",
      "Please report this to the TensorFlow team. When filing the bug, set the verbosity to 10 (on Linux, `export AUTOGRAPH_VERBOSITY=10`) and attach the full output.\n",
      "Cause: 'arguments' object has no attribute 'posonlyargs'\n",
      "To silence this warning, decorate the function with @tf.autograph.experimental.do_not_convert\n",
      "INFO:tensorflow:Assets written to: VGG16WithLast5UnFrozzenAndLr3e-4\\assets\n"
     ]
    }
   ],
   "source": [
    "model.save(NAME)"
   ]
  },
  {
   "cell_type": "code",
   "execution_count": 57,
   "metadata": {},
   "outputs": [
    {
     "name": "stdout",
     "output_type": "stream",
     "text": [
      "WARNING:tensorflow:AutoGraph could not transform <function Model.make_predict_function.<locals>.predict_function at 0x0000026F9AF664C8> and will run it as-is.\n",
      "Please report this to the TensorFlow team. When filing the bug, set the verbosity to 10 (on Linux, `export AUTOGRAPH_VERBOSITY=10`) and attach the full output.\n",
      "Cause: 'arguments' object has no attribute 'posonlyargs'\n",
      "To silence this warning, decorate the function with @tf.autograph.experimental.do_not_convert\n",
      "WARNING: AutoGraph could not transform <function Model.make_predict_function.<locals>.predict_function at 0x0000026F9AF664C8> and will run it as-is.\n",
      "Please report this to the TensorFlow team. When filing the bug, set the verbosity to 10 (on Linux, `export AUTOGRAPH_VERBOSITY=10`) and attach the full output.\n",
      "Cause: 'arguments' object has no attribute 'posonlyargs'\n",
      "To silence this warning, decorate the function with @tf.autograph.experimental.do_not_convert\n"
     ]
    }
   ],
   "source": [
    "prediction = model.predict(test_data)"
   ]
  },
  {
   "cell_type": "code",
   "execution_count": 58,
   "metadata": {},
   "outputs": [
    {
     "data": {
      "text/plain": [
       "[23, 1, 23, 8, 20]"
      ]
     },
     "execution_count": 58,
     "metadata": {},
     "output_type": "execute_result"
    }
   ],
   "source": [
    "results = []\n",
    "for i in prediction:\n",
    "    results.append(np.argmax(i))\n",
    "results[:5]"
   ]
  },
  {
   "cell_type": "code",
   "execution_count": 60,
   "metadata": {},
   "outputs": [],
   "source": [
    "cats = train_batches.class_indices.keys()\n",
    "cats = list(cats)"
   ]
  },
  {
   "cell_type": "code",
   "execution_count": 61,
   "metadata": {},
   "outputs": [],
   "source": [
    "def save_results(results):\n",
    "    images = pd.read_csv(test_csv)[\"image_id\"]\n",
    "    with open(\"results-new.csv\", \"w\", newline=\"\") as f:\n",
    "        w = csv.writer(f)\n",
    "        w.writerow([\"image_id\", \"breed\"])\n",
    "        for i in range(len(images)):\n",
    "            res = str(cats[results[i]])\n",
    "            img = images[i]\n",
    "            w.writerow([img, res])\n",
    "save_results(results)"
   ]
  },
  {
   "cell_type": "code",
   "execution_count": null,
   "metadata": {},
   "outputs": [],
   "source": []
  },
  {
   "cell_type": "markdown",
   "metadata": {},
   "source": [
    "## Loaded model\n",
    "\n",
    "Here I will load a pre trained and fine tuned model and reduce the learning rate and epochs"
   ]
  },
  {
   "cell_type": "code",
   "execution_count": null,
   "metadata": {},
   "outputs": [],
   "source": []
  },
  {
   "cell_type": "code",
   "execution_count": 17,
   "metadata": {},
   "outputs": [],
   "source": [
    "model = load_model(\"./saved-models/VGG16WithLast5UnFrozzenAndLr3e-4/\")"
   ]
  },
  {
   "cell_type": "code",
   "execution_count": 18,
   "metadata": {},
   "outputs": [],
   "source": [
    "model.compile(optimizer=Adam(learning_rate=1e-5),\n",
    "              loss=\"categorical_crossentropy\", \n",
    "              metrics=[\"accuracy\"])"
   ]
  },
  {
   "cell_type": "code",
   "execution_count": 19,
   "metadata": {},
   "outputs": [
    {
     "name": "stdout",
     "output_type": "stream",
     "text": [
      "Epoch 1/5\n",
      "WARNING:tensorflow:AutoGraph could not transform <function Model.make_train_function.<locals>.train_function at 0x000001F8548F3948> and will run it as-is.\n",
      "Please report this to the TensorFlow team. When filing the bug, set the verbosity to 10 (on Linux, `export AUTOGRAPH_VERBOSITY=10`) and attach the full output.\n",
      "Cause: 'arguments' object has no attribute 'posonlyargs'\n",
      "To silence this warning, decorate the function with @tf.autograph.experimental.do_not_convert\n",
      "WARNING: AutoGraph could not transform <function Model.make_train_function.<locals>.train_function at 0x000001F8548F3948> and will run it as-is.\n",
      "Please report this to the TensorFlow team. When filing the bug, set the verbosity to 10 (on Linux, `export AUTOGRAPH_VERBOSITY=10`) and attach the full output.\n",
      "Cause: 'arguments' object has no attribute 'posonlyargs'\n",
      "To silence this warning, decorate the function with @tf.autograph.experimental.do_not_convert\n",
      "77/77 [==============================] - ETA: 0s - loss: 2.5681 - accuracy: 0.2965 WARNING:tensorflow:AutoGraph could not transform <function Model.make_test_function.<locals>.test_function at 0x000001F8001EFAF8> and will run it as-is.\n",
      "Please report this to the TensorFlow team. When filing the bug, set the verbosity to 10 (on Linux, `export AUTOGRAPH_VERBOSITY=10`) and attach the full output.\n",
      "Cause: 'arguments' object has no attribute 'posonlyargs'\n",
      "To silence this warning, decorate the function with @tf.autograph.experimental.do_not_convert\n",
      "WARNING: AutoGraph could not transform <function Model.make_test_function.<locals>.test_function at 0x000001F8001EFAF8> and will run it as-is.\n",
      "Please report this to the TensorFlow team. When filing the bug, set the verbosity to 10 (on Linux, `export AUTOGRAPH_VERBOSITY=10`) and attach the full output.\n",
      "Cause: 'arguments' object has no attribute 'posonlyargs'\n",
      "To silence this warning, decorate the function with @tf.autograph.experimental.do_not_convert\n",
      "77/77 [==============================] - 4998s 65s/step - loss: 2.5681 - accuracy: 0.2965 - val_loss: 2.7195 - val_accuracy: 0.2676\n",
      "Epoch 2/5\n",
      "77/77 [==============================] - 3482s 45s/step - loss: 2.4831 - accuracy: 0.3151 - val_loss: 2.6622 - val_accuracy: 0.2949\n",
      "Epoch 3/5\n",
      "77/77 [==============================] - 3459s 45s/step - loss: 2.4368 - accuracy: 0.3286 - val_loss: 2.7006 - val_accuracy: 0.2754\n",
      "Epoch 4/5\n",
      "77/77 [==============================] - 3509s 46s/step - loss: 2.3758 - accuracy: 0.3463 - val_loss: 2.7179 - val_accuracy: 0.2656\n",
      "Epoch 5/5\n",
      "77/77 [==============================] - 3977s 52s/step - loss: 2.3563 - accuracy: 0.3445 - val_loss: 2.6281 - val_accuracy: 0.3125\n"
     ]
    },
    {
     "data": {
      "text/plain": [
       "<tensorflow.python.keras.callbacks.History at 0x1f854933488>"
      ]
     },
     "execution_count": 19,
     "metadata": {},
     "output_type": "execute_result"
    }
   ],
   "source": [
    "model.fit(\n",
    "    x=train_batches,\n",
    "    steps_per_epoch= train_batches.n // train_batches.batch_size,\n",
    "    validation_data= valid_batches,\n",
    "    validation_steps= valid_batches.n // valid_batches.batch_size,\n",
    "    epochs=5\n",
    ")"
   ]
  },
  {
   "cell_type": "code",
   "execution_count": 20,
   "metadata": {},
   "outputs": [
    {
     "name": "stdout",
     "output_type": "stream",
     "text": [
      "WARNING:tensorflow:From c:\\users\\asus\\anaconda3\\envs\\tensorflow\\lib\\site-packages\\tensorflow\\python\\training\\tracking\\tracking.py:111: Model.state_updates (from tensorflow.python.keras.engine.training) is deprecated and will be removed in a future version.\n",
      "Instructions for updating:\n",
      "This property should not be used in TensorFlow 2.0, as updates are applied automatically.\n",
      "WARNING:tensorflow:From c:\\users\\asus\\anaconda3\\envs\\tensorflow\\lib\\site-packages\\tensorflow\\python\\training\\tracking\\tracking.py:111: Layer.updates (from tensorflow.python.keras.engine.base_layer) is deprecated and will be removed in a future version.\n",
      "Instructions for updating:\n",
      "This property should not be used in TensorFlow 2.0, as updates are applied automatically.\n",
      "WARNING:tensorflow:AutoGraph could not transform <function canonicalize_signatures.<locals>.signature_wrapper at 0x000001F800D49558> and will run it as-is.\n",
      "Please report this to the TensorFlow team. When filing the bug, set the verbosity to 10 (on Linux, `export AUTOGRAPH_VERBOSITY=10`) and attach the full output.\n",
      "Cause: 'arguments' object has no attribute 'posonlyargs'\n",
      "To silence this warning, decorate the function with @tf.autograph.experimental.do_not_convert\n",
      "WARNING: AutoGraph could not transform <function canonicalize_signatures.<locals>.signature_wrapper at 0x000001F800D49558> and will run it as-is.\n",
      "Please report this to the TensorFlow team. When filing the bug, set the verbosity to 10 (on Linux, `export AUTOGRAPH_VERBOSITY=10`) and attach the full output.\n",
      "Cause: 'arguments' object has no attribute 'posonlyargs'\n",
      "To silence this warning, decorate the function with @tf.autograph.experimental.do_not_convert\n",
      "INFO:tensorflow:Assets written to: VggTrainedFurther1e-5\\assets\n"
     ]
    }
   ],
   "source": [
    "model.save(\"VggTrainedFurther1e-5\")"
   ]
  },
  {
   "cell_type": "code",
   "execution_count": 25,
   "metadata": {},
   "outputs": [
    {
     "name": "stdout",
     "output_type": "stream",
     "text": [
      "WARNING:tensorflow:AutoGraph could not transform <function Model.make_predict_function.<locals>.predict_function at 0x000001F806EEB4C8> and will run it as-is.\n",
      "Please report this to the TensorFlow team. When filing the bug, set the verbosity to 10 (on Linux, `export AUTOGRAPH_VERBOSITY=10`) and attach the full output.\n",
      "Cause: 'arguments' object has no attribute 'posonlyargs'\n",
      "To silence this warning, decorate the function with @tf.autograph.experimental.do_not_convert\n",
      "WARNING: AutoGraph could not transform <function Model.make_predict_function.<locals>.predict_function at 0x000001F806EEB4C8> and will run it as-is.\n",
      "Please report this to the TensorFlow team. When filing the bug, set the verbosity to 10 (on Linux, `export AUTOGRAPH_VERBOSITY=10`) and attach the full output.\n",
      "Cause: 'arguments' object has no attribute 'posonlyargs'\n",
      "To silence this warning, decorate the function with @tf.autograph.experimental.do_not_convert\n"
     ]
    }
   ],
   "source": [
    "prediction = model.predict(test_data)"
   ]
  },
  {
   "cell_type": "code",
   "execution_count": 26,
   "metadata": {},
   "outputs": [
    {
     "data": {
      "text/plain": [
       "[34, 1, 23, 8, 26]"
      ]
     },
     "execution_count": 26,
     "metadata": {},
     "output_type": "execute_result"
    }
   ],
   "source": [
    "results = []\n",
    "for i in prediction:\n",
    "    results.append(np.argmax(i))\n",
    "results[:5]"
   ]
  },
  {
   "cell_type": "code",
   "execution_count": 27,
   "metadata": {},
   "outputs": [],
   "source": [
    "cats = train_batches.class_indices.keys()\n",
    "cats = list(cats)"
   ]
  },
  {
   "cell_type": "code",
   "execution_count": 28,
   "metadata": {},
   "outputs": [],
   "source": [
    "def save_results(results):\n",
    "    images = pd.read_csv(test_csv)[\"image_id\"]\n",
    "    with open(\"results-latest.csv\", \"w\", newline=\"\") as f:\n",
    "        w = csv.writer(f)\n",
    "        w.writerow([\"image_id\", \"breed\"])\n",
    "        for i in range(len(images)):\n",
    "            res = str(cats[results[i]])\n",
    "            img = images[i]\n",
    "            w.writerow([img, res])\n",
    "save_results(results)"
   ]
  },
  {
   "cell_type": "code",
   "execution_count": null,
   "metadata": {},
   "outputs": [],
   "source": []
  },
  {
   "cell_type": "code",
   "execution_count": null,
   "metadata": {},
   "outputs": [],
   "source": []
  }
 ],
 "metadata": {
  "kernelspec": {
   "display_name": "Python 3",
   "language": "python",
   "name": "python3"
  },
  "language_info": {
   "codemirror_mode": {
    "name": "ipython",
    "version": 3
   },
   "file_extension": ".py",
   "mimetype": "text/x-python",
   "name": "python",
   "nbconvert_exporter": "python",
   "pygments_lexer": "ipython3",
   "version": "3.7.7"
  }
 },
 "nbformat": 4,
 "nbformat_minor": 4
}
