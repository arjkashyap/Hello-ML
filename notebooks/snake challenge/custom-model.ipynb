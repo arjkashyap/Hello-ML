{
 "cells": [
  {
   "cell_type": "code",
   "execution_count": 4,
   "metadata": {},
   "outputs": [],
   "source": [
    "%matplotlib inline\n",
    "import numpy as np\n",
    "import matplotlib.pyplot as plt\n",
    "import os\n",
    "import pandas as pd\n",
    "import tensorflow as tf\n",
    "from tensorflow.keras.preprocessing.image import ImageDataGenerator, load_img, img_to_array\n",
    "from tensorflow.keras.models import Sequential, Model, load_model\n",
    "from tensorflow.keras.layers import Dense, Dropout, Activation, Flatten, Conv2D, MaxPool2D\n",
    "from tensorflow.keras.optimizers import Adam\n",
    "from tensorflow.keras import regularizers\n",
    "import cv2\n",
    "import csv"
   ]
  },
  {
   "cell_type": "code",
   "execution_count": 5,
   "metadata": {},
   "outputs": [],
   "source": [
    "tf.keras.backend.set_image_data_format('channels_last')"
   ]
  },
  {
   "cell_type": "code",
   "execution_count": 10,
   "metadata": {},
   "outputs": [],
   "source": [
    "train_path = './data/train/'\n",
    "valid_path = './data/valid'\n",
    "test_path = './data/test'"
   ]
  },
  {
   "cell_type": "code",
   "execution_count": 11,
   "metadata": {},
   "outputs": [],
   "source": [
    "train_csv = './data/train.csv'\n",
    "valid_csv = './data/valid.csv'\n",
    "test_csv = './data/test.csv'"
   ]
  },
  {
   "cell_type": "code",
   "execution_count": 12,
   "metadata": {},
   "outputs": [],
   "source": [
    "def append_ext(fn):    # Helper function to append extention name for image id\n",
    "    return fn + \".jpg\""
   ]
  },
  {
   "cell_type": "code",
   "execution_count": 13,
   "metadata": {},
   "outputs": [],
   "source": [
    "# Data frames for image names and labels\n",
    "train_df = pd.read_csv(train_csv)\n",
    "valid_df = pd.read_csv(valid_csv)\n",
    "test_df = pd.read_csv(test_csv)"
   ]
  },
  {
   "cell_type": "code",
   "execution_count": 14,
   "metadata": {},
   "outputs": [],
   "source": [
    "train_df[\"image_id\"] = train_df[\"image_id\"].apply(append_ext)"
   ]
  },
  {
   "cell_type": "code",
   "execution_count": 15,
   "metadata": {},
   "outputs": [],
   "source": [
    "valid_df[\"image_id\"] = valid_df[\"image_id\"].apply(append_ext)"
   ]
  },
  {
   "cell_type": "code",
   "execution_count": 16,
   "metadata": {},
   "outputs": [],
   "source": [
    "test_df[\"image_id\"] = test_df[\"image_id\"].apply(append_ext)"
   ]
  },
  {
   "cell_type": "code",
   "execution_count": 17,
   "metadata": {},
   "outputs": [
    {
     "data": {
      "text/html": [
       "<div>\n",
       "<style scoped>\n",
       "    .dataframe tbody tr th:only-of-type {\n",
       "        vertical-align: middle;\n",
       "    }\n",
       "\n",
       "    .dataframe tbody tr th {\n",
       "        vertical-align: top;\n",
       "    }\n",
       "\n",
       "    .dataframe thead th {\n",
       "        text-align: right;\n",
       "    }\n",
       "</style>\n",
       "<table border=\"1\" class=\"dataframe\">\n",
       "  <thead>\n",
       "    <tr style=\"text-align: right;\">\n",
       "      <th></th>\n",
       "      <th>image_id</th>\n",
       "      <th>breed</th>\n",
       "    </tr>\n",
       "  </thead>\n",
       "  <tbody>\n",
       "    <tr>\n",
       "      <th>0</th>\n",
       "      <td>597e09c5d0.jpg</td>\n",
       "      <td>agkistrodon-contortrix</td>\n",
       "    </tr>\n",
       "    <tr>\n",
       "      <th>1</th>\n",
       "      <td>a14a5ace05.jpg</td>\n",
       "      <td>pituophis-catenifer</td>\n",
       "    </tr>\n",
       "    <tr>\n",
       "      <th>2</th>\n",
       "      <td>5a35436f64.jpg</td>\n",
       "      <td>thamnophis-proximus</td>\n",
       "    </tr>\n",
       "  </tbody>\n",
       "</table>\n",
       "</div>"
      ],
      "text/plain": [
       "         image_id                   breed\n",
       "0  597e09c5d0.jpg  agkistrodon-contortrix\n",
       "1  a14a5ace05.jpg     pituophis-catenifer\n",
       "2  5a35436f64.jpg     thamnophis-proximus"
      ]
     },
     "execution_count": 17,
     "metadata": {},
     "output_type": "execute_result"
    }
   ],
   "source": [
    "train_df[:3]"
   ]
  },
  {
   "cell_type": "code",
   "execution_count": 18,
   "metadata": {},
   "outputs": [],
   "source": [
    "IMG_DIM=224\n",
    "bs = 64"
   ]
  },
  {
   "cell_type": "code",
   "execution_count": 19,
   "metadata": {},
   "outputs": [],
   "source": [
    "datagen = ImageDataGenerator(\n",
    "    rotation_range=5,\n",
    "    width_shift_range=0.1,\n",
    "    height_shift_range=0.1,\n",
    "    zoom_range=0.1,\n",
    "    horizontal_flip=True,\n",
    ")"
   ]
  },
  {
   "cell_type": "code",
   "execution_count": 20,
   "metadata": {},
   "outputs": [
    {
     "name": "stdout",
     "output_type": "stream",
     "text": [
      "Found 4958 validated image filenames belonging to 35 classes.\n"
     ]
    }
   ],
   "source": [
    "train_batches = datagen.flow_from_dataframe(\n",
    "    train_df,\n",
    "    directory=train_path,\n",
    "    target_size=(IMG_DIM,IMG_DIM),\n",
    "    x_col=\"image_id\",\n",
    "    y_col=\"breed\",\n",
    "    batch_size=bs\n",
    ")"
   ]
  },
  {
   "cell_type": "code",
   "execution_count": 21,
   "metadata": {},
   "outputs": [
    {
     "name": "stdout",
     "output_type": "stream",
     "text": [
      "Found 550 validated image filenames belonging to 35 classes.\n"
     ]
    }
   ],
   "source": [
    "valid_batches = datagen.flow_from_dataframe(\n",
    "    valid_df,\n",
    "    directory=valid_path,\n",
    "    target_size=(IMG_DIM, IMG_DIM),\n",
    "    x_col=\"image_id\",\n",
    "    y_col=\"breed\",\n",
    "    batch_size=bs\n",
    ")"
   ]
  },
  {
   "cell_type": "code",
   "execution_count": 22,
   "metadata": {},
   "outputs": [],
   "source": [
    "ep=20"
   ]
  },
  {
   "cell_type": "code",
   "execution_count": null,
   "metadata": {},
   "outputs": [],
   "source": []
  },
  {
   "cell_type": "code",
   "execution_count": 23,
   "metadata": {},
   "outputs": [
    {
     "name": "stdout",
     "output_type": "stream",
     "text": [
      "Model: \"sequential_5\"\n",
      "_________________________________________________________________\n",
      "Layer (type)                 Output Shape              Param #   \n",
      "=================================================================\n",
      "conv2d_9 (Conv2D)            (None, 222, 222, 32)      896       \n",
      "_________________________________________________________________\n",
      "max_pooling2d_6 (MaxPooling2 (None, 111, 111, 32)      0         \n",
      "_________________________________________________________________\n",
      "conv2d_10 (Conv2D)           (None, 109, 109, 32)      9248      \n",
      "_________________________________________________________________\n",
      "max_pooling2d_7 (MaxPooling2 (None, 54, 54, 32)        0         \n",
      "_________________________________________________________________\n",
      "conv2d_11 (Conv2D)           (None, 52, 52, 128)       36992     \n",
      "_________________________________________________________________\n",
      "max_pooling2d_8 (MaxPooling2 (None, 26, 26, 128)       0         \n",
      "_________________________________________________________________\n",
      "flatten_2 (Flatten)          (None, 86528)             0         \n",
      "_________________________________________________________________\n",
      "dense_4 (Dense)              (None, 64)                5537856   \n",
      "_________________________________________________________________\n",
      "dropout_2 (Dropout)          (None, 64)                0         \n",
      "_________________________________________________________________\n",
      "dense_5 (Dense)              (None, 35)                2275      \n",
      "=================================================================\n",
      "Total params: 5,587,267\n",
      "Trainable params: 5,587,267\n",
      "Non-trainable params: 0\n",
      "_________________________________________________________________\n"
     ]
    }
   ],
   "source": [
    "NAME=\"CUSTOM-MODEL-I\"\n",
    "model = Sequential()\n",
    "\n",
    "model.add(Conv2D(32, (3, 3), input_shape=(224, 224, 3), activation='relu'))\n",
    "model.add(MaxPool2D(pool_size=(2, 2)))\n",
    "\n",
    "model.add(Conv2D(32, (3, 3), activation='relu'))\n",
    "model.add(MaxPool2D(pool_size=(2, 2)))\n",
    "\n",
    "model.add(Conv2D(128, (3, 3), activation='relu'))\n",
    "model.add(MaxPool2D(pool_size=(2, 2)))\n",
    "\n",
    "model.add(Flatten())\n",
    "model.add(Dense(64, activation='relu'))\n",
    "model.add(Dropout(0.24))\n",
    "model.add(Dense(35,activation='softmax'))\n",
    "\n",
    "model.summary()"
   ]
  },
  {
   "cell_type": "code",
   "execution_count": 25,
   "metadata": {},
   "outputs": [
    {
     "name": "stdout",
     "output_type": "stream",
     "text": [
      "Epoch 1/20\n",
      "WARNING:tensorflow:AutoGraph could not transform <function Model.make_train_function.<locals>.train_function at 0x000001E0F36C1DC8> and will run it as-is.\n",
      "Please report this to the TensorFlow team. When filing the bug, set the verbosity to 10 (on Linux, `export AUTOGRAPH_VERBOSITY=10`) and attach the full output.\n",
      "Cause: 'arguments' object has no attribute 'posonlyargs'\n",
      "To silence this warning, decorate the function with @tf.autograph.experimental.do_not_convert\n",
      "WARNING: AutoGraph could not transform <function Model.make_train_function.<locals>.train_function at 0x000001E0F36C1DC8> and will run it as-is.\n",
      "Please report this to the TensorFlow team. When filing the bug, set the verbosity to 10 (on Linux, `export AUTOGRAPH_VERBOSITY=10`) and attach the full output.\n",
      "Cause: 'arguments' object has no attribute 'posonlyargs'\n",
      "To silence this warning, decorate the function with @tf.autograph.experimental.do_not_convert\n",
      "77/77 [==============================] - ETA: 0s - loss: 6.6968 - accuracy: 0.0691WARNING:tensorflow:AutoGraph could not transform <function Model.make_test_function.<locals>.test_function at 0x000001E0F39FD9D8> and will run it as-is.\n",
      "Please report this to the TensorFlow team. When filing the bug, set the verbosity to 10 (on Linux, `export AUTOGRAPH_VERBOSITY=10`) and attach the full output.\n",
      "Cause: 'arguments' object has no attribute 'posonlyargs'\n",
      "To silence this warning, decorate the function with @tf.autograph.experimental.do_not_convert\n",
      "WARNING: AutoGraph could not transform <function Model.make_test_function.<locals>.test_function at 0x000001E0F39FD9D8> and will run it as-is.\n",
      "Please report this to the TensorFlow team. When filing the bug, set the verbosity to 10 (on Linux, `export AUTOGRAPH_VERBOSITY=10`) and attach the full output.\n",
      "Cause: 'arguments' object has no attribute 'posonlyargs'\n",
      "To silence this warning, decorate the function with @tf.autograph.experimental.do_not_convert\n",
      "77/77 [==============================] - 230s 3s/step - loss: 6.6968 - accuracy: 0.0691 - val_loss: 3.5536 - val_accuracy: 0.0605\n",
      "Epoch 2/20\n",
      "77/77 [==============================] - 149s 2s/step - loss: 3.5522 - accuracy: 0.0752 - val_loss: 3.5511 - val_accuracy: 0.0684\n",
      "Epoch 3/20\n",
      "77/77 [==============================] - 151s 2s/step - loss: 3.5498 - accuracy: 0.0750 - val_loss: 3.5490 - val_accuracy: 0.0664\n",
      "Epoch 4/20\n",
      "77/77 [==============================] - 150s 2s/step - loss: 3.5474 - accuracy: 0.0748 - val_loss: 3.5468 - val_accuracy: 0.0625\n",
      "Epoch 5/20\n",
      "77/77 [==============================] - 154s 2s/step - loss: 3.5448 - accuracy: 0.0754 - val_loss: 3.5445 - val_accuracy: 0.0664\n",
      "Epoch 6/20\n",
      "77/77 [==============================] - 151s 2s/step - loss: 3.5424 - accuracy: 0.0793 - val_loss: 3.5418 - val_accuracy: 0.0938\n",
      "Epoch 7/20\n",
      "77/77 [==============================] - 151s 2s/step - loss: 3.5399 - accuracy: 0.0924 - val_loss: 3.5395 - val_accuracy: 0.0957\n",
      "Epoch 8/20\n",
      "77/77 [==============================] - 152s 2s/step - loss: 3.5374 - accuracy: 0.0919 - val_loss: 3.5367 - val_accuracy: 0.0996\n",
      "Epoch 9/20\n",
      "77/77 [==============================] - 152s 2s/step - loss: 3.5351 - accuracy: 0.0909 - val_loss: 3.5351 - val_accuracy: 0.0938\n",
      "Epoch 10/20\n",
      "77/77 [==============================] - 154s 2s/step - loss: 3.5327 - accuracy: 0.0917 - val_loss: 3.5330 - val_accuracy: 0.0938\n",
      "Epoch 11/20\n",
      "77/77 [==============================] - 152s 2s/step - loss: 3.5303 - accuracy: 0.0932 - val_loss: 3.5308 - val_accuracy: 0.0977\n",
      "Epoch 12/20\n",
      "77/77 [==============================] - 152s 2s/step - loss: 3.5281 - accuracy: 0.0915 - val_loss: 3.5293 - val_accuracy: 0.0957\n",
      "Epoch 13/20\n",
      "77/77 [==============================] - 152s 2s/step - loss: 3.5256 - accuracy: 0.0924 - val_loss: 3.5261 - val_accuracy: 0.0957\n",
      "Epoch 14/20\n",
      "77/77 [==============================] - 153s 2s/step - loss: 3.5233 - accuracy: 0.0922 - val_loss: 3.5240 - val_accuracy: 0.0938\n",
      "Epoch 15/20\n",
      "77/77 [==============================] - 152s 2s/step - loss: 3.5212 - accuracy: 0.0915 - val_loss: 3.5218 - val_accuracy: 0.0938\n",
      "Epoch 16/20\n",
      "77/77 [==============================] - 152s 2s/step - loss: 3.5187 - accuracy: 0.0926 - val_loss: 3.5190 - val_accuracy: 0.0938\n",
      "Epoch 17/20\n",
      "77/77 [==============================] - 152s 2s/step - loss: 3.5165 - accuracy: 0.0928 - val_loss: 3.5188 - val_accuracy: 0.0938\n",
      "Epoch 18/20\n",
      "77/77 [==============================] - 152s 2s/step - loss: 3.5142 - accuracy: 0.0926 - val_loss: 3.5169 - val_accuracy: 0.0977\n",
      "Epoch 19/20\n",
      "77/77 [==============================] - 152s 2s/step - loss: 3.5122 - accuracy: 0.0922 - val_loss: 3.5125 - val_accuracy: 0.0938\n",
      "Epoch 20/20\n",
      "77/77 [==============================] - 152s 2s/step - loss: 3.5100 - accuracy: 0.0922 - val_loss: 3.5117 - val_accuracy: 0.1016\n"
     ]
    },
    {
     "data": {
      "text/plain": [
       "<tensorflow.python.keras.callbacks.History at 0x1e0f38f3c48>"
      ]
     },
     "execution_count": 25,
     "metadata": {},
     "output_type": "execute_result"
    }
   ],
   "source": [
    "\n",
    "model.compile(loss='categorical_crossentropy',\n",
    "              optimizer=Adam(learning_rate=0.0001),\n",
    "              metrics=['accuracy'])\n",
    "# Fit\n",
    "model.fit(\n",
    "    x=train_batches,\n",
    "    steps_per_epoch= train_batches.n // train_batches.batch_size,\n",
    "    validation_data= valid_batches,\n",
    "    validation_steps= valid_batches.n // valid_batches.batch_size,\n",
    "    epochs=ep\n",
    ")"
   ]
  },
  {
   "cell_type": "code",
   "execution_count": 26,
   "metadata": {},
   "outputs": [
    {
     "name": "stdout",
     "output_type": "stream",
     "text": [
      "WARNING:tensorflow:From c:\\users\\asus\\anaconda3\\envs\\tensorflow\\lib\\site-packages\\tensorflow\\python\\training\\tracking\\tracking.py:111: Model.state_updates (from tensorflow.python.keras.engine.training) is deprecated and will be removed in a future version.\n",
      "Instructions for updating:\n",
      "This property should not be used in TensorFlow 2.0, as updates are applied automatically.\n",
      "WARNING:tensorflow:From c:\\users\\asus\\anaconda3\\envs\\tensorflow\\lib\\site-packages\\tensorflow\\python\\training\\tracking\\tracking.py:111: Layer.updates (from tensorflow.python.keras.engine.base_layer) is deprecated and will be removed in a future version.\n",
      "Instructions for updating:\n",
      "This property should not be used in TensorFlow 2.0, as updates are applied automatically.\n",
      "WARNING:tensorflow:AutoGraph could not transform <function canonicalize_signatures.<locals>.signature_wrapper at 0x000001E08010FDC8> and will run it as-is.\n",
      "Please report this to the TensorFlow team. When filing the bug, set the verbosity to 10 (on Linux, `export AUTOGRAPH_VERBOSITY=10`) and attach the full output.\n",
      "Cause: 'arguments' object has no attribute 'posonlyargs'\n",
      "To silence this warning, decorate the function with @tf.autograph.experimental.do_not_convert\n",
      "WARNING: AutoGraph could not transform <function canonicalize_signatures.<locals>.signature_wrapper at 0x000001E08010FDC8> and will run it as-is.\n",
      "Please report this to the TensorFlow team. When filing the bug, set the verbosity to 10 (on Linux, `export AUTOGRAPH_VERBOSITY=10`) and attach the full output.\n",
      "Cause: 'arguments' object has no attribute 'posonlyargs'\n",
      "To silence this warning, decorate the function with @tf.autograph.experimental.do_not_convert\n",
      "INFO:tensorflow:Assets written to: CUSTOM-MODEL-I\\assets\n"
     ]
    }
   ],
   "source": [
    "model.save(NAME)"
   ]
  },
  {
   "cell_type": "code",
   "execution_count": null,
   "metadata": {},
   "outputs": [],
   "source": []
  },
  {
   "cell_type": "code",
   "execution_count": null,
   "metadata": {},
   "outputs": [],
   "source": []
  }
 ],
 "metadata": {
  "kernelspec": {
   "display_name": "Python 3",
   "language": "python",
   "name": "python3"
  },
  "language_info": {
   "codemirror_mode": {
    "name": "ipython",
    "version": 3
   },
   "file_extension": ".py",
   "mimetype": "text/x-python",
   "name": "python",
   "nbconvert_exporter": "python",
   "pygments_lexer": "ipython3",
   "version": "3.7.7"
  }
 },
 "nbformat": 4,
 "nbformat_minor": 4
}
