{
 "cells": [
  {
   "cell_type": "code",
   "execution_count": 33,
   "metadata": {},
   "outputs": [],
   "source": [
    "import pandas as pd\n",
    "import numpy as np\n",
    "from sklearn.linear_model import LinearRegression\n",
    "from sklearn import preprocessing, svm\n",
    "from sklearn.model_selection import cross_validate, train_test_split\n",
    "import math"
   ]
  },
  {
   "cell_type": "code",
   "execution_count": 3,
   "metadata": {},
   "outputs": [],
   "source": [
    "train_files = \"./data/GOOG.csv\""
   ]
  },
  {
   "cell_type": "code",
   "execution_count": 4,
   "metadata": {},
   "outputs": [],
   "source": [
    "data = pd.read_csv(train_files)"
   ]
  },
  {
   "cell_type": "code",
   "execution_count": null,
   "metadata": {},
   "outputs": [],
   "source": []
  },
  {
   "cell_type": "code",
   "execution_count": 5,
   "metadata": {},
   "outputs": [
    {
     "data": {
      "text/html": [
       "<div>\n",
       "<style scoped>\n",
       "    .dataframe tbody tr th:only-of-type {\n",
       "        vertical-align: middle;\n",
       "    }\n",
       "\n",
       "    .dataframe tbody tr th {\n",
       "        vertical-align: top;\n",
       "    }\n",
       "\n",
       "    .dataframe thead th {\n",
       "        text-align: right;\n",
       "    }\n",
       "</style>\n",
       "<table border=\"1\" class=\"dataframe\">\n",
       "  <thead>\n",
       "    <tr style=\"text-align: right;\">\n",
       "      <th></th>\n",
       "      <th>Date</th>\n",
       "      <th>Open</th>\n",
       "      <th>High</th>\n",
       "      <th>Low</th>\n",
       "      <th>Close</th>\n",
       "      <th>Adj Close</th>\n",
       "      <th>Volume</th>\n",
       "    </tr>\n",
       "  </thead>\n",
       "  <tbody>\n",
       "    <tr>\n",
       "      <th>0</th>\n",
       "      <td>2020-07-07</td>\n",
       "      <td>1490.000000</td>\n",
       "      <td>1516.800049</td>\n",
       "      <td>1483.550049</td>\n",
       "      <td>1485.180054</td>\n",
       "      <td>1485.180054</td>\n",
       "      <td>1458200</td>\n",
       "    </tr>\n",
       "    <tr>\n",
       "      <th>1</th>\n",
       "      <td>2020-07-08</td>\n",
       "      <td>1494.319946</td>\n",
       "      <td>1505.880005</td>\n",
       "      <td>1485.630005</td>\n",
       "      <td>1496.000000</td>\n",
       "      <td>1496.000000</td>\n",
       "      <td>1249700</td>\n",
       "    </tr>\n",
       "    <tr>\n",
       "      <th>2</th>\n",
       "      <td>2020-07-09</td>\n",
       "      <td>1506.449951</td>\n",
       "      <td>1522.719971</td>\n",
       "      <td>1488.084961</td>\n",
       "      <td>1510.989990</td>\n",
       "      <td>1510.989990</td>\n",
       "      <td>1423300</td>\n",
       "    </tr>\n",
       "    <tr>\n",
       "      <th>3</th>\n",
       "      <td>2020-07-10</td>\n",
       "      <td>1506.150024</td>\n",
       "      <td>1543.829956</td>\n",
       "      <td>1496.540039</td>\n",
       "      <td>1541.739990</td>\n",
       "      <td>1541.739990</td>\n",
       "      <td>1856300</td>\n",
       "    </tr>\n",
       "    <tr>\n",
       "      <th>4</th>\n",
       "      <td>2020-07-13</td>\n",
       "      <td>1550.000000</td>\n",
       "      <td>1577.131958</td>\n",
       "      <td>1505.243042</td>\n",
       "      <td>1511.339966</td>\n",
       "      <td>1511.339966</td>\n",
       "      <td>1846400</td>\n",
       "    </tr>\n",
       "  </tbody>\n",
       "</table>\n",
       "</div>"
      ],
      "text/plain": [
       "         Date         Open         High          Low        Close  \\\n",
       "0  2020-07-07  1490.000000  1516.800049  1483.550049  1485.180054   \n",
       "1  2020-07-08  1494.319946  1505.880005  1485.630005  1496.000000   \n",
       "2  2020-07-09  1506.449951  1522.719971  1488.084961  1510.989990   \n",
       "3  2020-07-10  1506.150024  1543.829956  1496.540039  1541.739990   \n",
       "4  2020-07-13  1550.000000  1577.131958  1505.243042  1511.339966   \n",
       "\n",
       "     Adj Close   Volume  \n",
       "0  1485.180054  1458200  \n",
       "1  1496.000000  1249700  \n",
       "2  1510.989990  1423300  \n",
       "3  1541.739990  1856300  \n",
       "4  1511.339966  1846400  "
      ]
     },
     "execution_count": 5,
     "metadata": {},
     "output_type": "execute_result"
    }
   ],
   "source": [
    "data.head()"
   ]
  },
  {
   "cell_type": "code",
   "execution_count": 6,
   "metadata": {},
   "outputs": [],
   "source": [
    "features = ['Open',  'High',  'Low',  'Adj Close', 'Volume']"
   ]
  },
  {
   "cell_type": "code",
   "execution_count": 7,
   "metadata": {},
   "outputs": [
    {
     "data": {
      "text/html": [
       "<div>\n",
       "<style scoped>\n",
       "    .dataframe tbody tr th:only-of-type {\n",
       "        vertical-align: middle;\n",
       "    }\n",
       "\n",
       "    .dataframe tbody tr th {\n",
       "        vertical-align: top;\n",
       "    }\n",
       "\n",
       "    .dataframe thead th {\n",
       "        text-align: right;\n",
       "    }\n",
       "</style>\n",
       "<table border=\"1\" class=\"dataframe\">\n",
       "  <thead>\n",
       "    <tr style=\"text-align: right;\">\n",
       "      <th></th>\n",
       "      <th>Open</th>\n",
       "      <th>High</th>\n",
       "      <th>Low</th>\n",
       "      <th>Adj Close</th>\n",
       "      <th>Volume</th>\n",
       "    </tr>\n",
       "  </thead>\n",
       "  <tbody>\n",
       "    <tr>\n",
       "      <th>0</th>\n",
       "      <td>1490.000000</td>\n",
       "      <td>1516.800049</td>\n",
       "      <td>1483.550049</td>\n",
       "      <td>1485.180054</td>\n",
       "      <td>1458200</td>\n",
       "    </tr>\n",
       "    <tr>\n",
       "      <th>1</th>\n",
       "      <td>1494.319946</td>\n",
       "      <td>1505.880005</td>\n",
       "      <td>1485.630005</td>\n",
       "      <td>1496.000000</td>\n",
       "      <td>1249700</td>\n",
       "    </tr>\n",
       "    <tr>\n",
       "      <th>2</th>\n",
       "      <td>1506.449951</td>\n",
       "      <td>1522.719971</td>\n",
       "      <td>1488.084961</td>\n",
       "      <td>1510.989990</td>\n",
       "      <td>1423300</td>\n",
       "    </tr>\n",
       "    <tr>\n",
       "      <th>3</th>\n",
       "      <td>1506.150024</td>\n",
       "      <td>1543.829956</td>\n",
       "      <td>1496.540039</td>\n",
       "      <td>1541.739990</td>\n",
       "      <td>1856300</td>\n",
       "    </tr>\n",
       "    <tr>\n",
       "      <th>4</th>\n",
       "      <td>1550.000000</td>\n",
       "      <td>1577.131958</td>\n",
       "      <td>1505.243042</td>\n",
       "      <td>1511.339966</td>\n",
       "      <td>1846400</td>\n",
       "    </tr>\n",
       "    <tr>\n",
       "      <th>...</th>\n",
       "      <td>...</td>\n",
       "      <td>...</td>\n",
       "      <td>...</td>\n",
       "      <td>...</td>\n",
       "      <td>...</td>\n",
       "    </tr>\n",
       "    <tr>\n",
       "      <th>247</th>\n",
       "      <td>2535.449951</td>\n",
       "      <td>2540.000000</td>\n",
       "      <td>2508.739990</td>\n",
       "      <td>2520.370117</td>\n",
       "      <td>1047500</td>\n",
       "    </tr>\n",
       "    <tr>\n",
       "      <th>248</th>\n",
       "      <td>2513.071045</td>\n",
       "      <td>2516.000000</td>\n",
       "      <td>2495.149902</td>\n",
       "      <td>2506.320068</td>\n",
       "      <td>1200300</td>\n",
       "    </tr>\n",
       "    <tr>\n",
       "      <th>249</th>\n",
       "      <td>2496.995117</td>\n",
       "      <td>2529.250000</td>\n",
       "      <td>2496.995117</td>\n",
       "      <td>2527.370117</td>\n",
       "      <td>856000</td>\n",
       "    </tr>\n",
       "    <tr>\n",
       "      <th>250</th>\n",
       "      <td>2536.790039</td>\n",
       "      <td>2576.959961</td>\n",
       "      <td>2535.379883</td>\n",
       "      <td>2574.379883</td>\n",
       "      <td>1058000</td>\n",
       "    </tr>\n",
       "    <tr>\n",
       "      <th>251</th>\n",
       "      <td>2588.989990</td>\n",
       "      <td>2597.689941</td>\n",
       "      <td>2568.179932</td>\n",
       "      <td>2595.419922</td>\n",
       "      <td>1067000</td>\n",
       "    </tr>\n",
       "  </tbody>\n",
       "</table>\n",
       "<p>252 rows × 5 columns</p>\n",
       "</div>"
      ],
      "text/plain": [
       "            Open         High          Low    Adj Close   Volume\n",
       "0    1490.000000  1516.800049  1483.550049  1485.180054  1458200\n",
       "1    1494.319946  1505.880005  1485.630005  1496.000000  1249700\n",
       "2    1506.449951  1522.719971  1488.084961  1510.989990  1423300\n",
       "3    1506.150024  1543.829956  1496.540039  1541.739990  1856300\n",
       "4    1550.000000  1577.131958  1505.243042  1511.339966  1846400\n",
       "..           ...          ...          ...          ...      ...\n",
       "247  2535.449951  2540.000000  2508.739990  2520.370117  1047500\n",
       "248  2513.071045  2516.000000  2495.149902  2506.320068  1200300\n",
       "249  2496.995117  2529.250000  2496.995117  2527.370117   856000\n",
       "250  2536.790039  2576.959961  2535.379883  2574.379883  1058000\n",
       "251  2588.989990  2597.689941  2568.179932  2595.419922  1067000\n",
       "\n",
       "[252 rows x 5 columns]"
      ]
     },
     "execution_count": 7,
     "metadata": {},
     "output_type": "execute_result"
    }
   ],
   "source": [
    "df = data[features]\n",
    "df"
   ]
  },
  {
   "cell_type": "markdown",
   "metadata": {},
   "source": [
    "### Replace 'NaN'/missing data from the dataset"
   ]
  },
  {
   "cell_type": "markdown",
   "metadata": {},
   "source": [
    "Generally we're using regression to forecast_out"
   ]
  },
  {
   "cell_type": "markdown",
   "metadata": {},
   "source": [
    "Forecast_out is just a percentage of our data to forecast out. Basically, in our dataset, maybe we want to train our model to predict the price 1% into the future. Then, to train, we need historically to grab values, and then use those values alongside whatever the price was 1% into the future (1% into the future as in 1% of the days of the entire dataset. If the dataset was 100 days, 1% into the future would be 1 day into the future). We use .shift, which is a pandas method, which can take a column and literally shift it in a direction by a number you decide. Thus, we use this to make a new column, which is the price column shifted, giving us the future prices in the same rows as current price, volume...etc to be trained against."
   ]
  },
  {
   "cell_type": "markdown",
   "metadata": {},
   "source": [
    "Hindi: predict kya kr rhe hai ? future mai stock price, data set mai hai na future ka stock price, vo bnaya label"
   ]
  },
  {
   "cell_type": "code",
   "execution_count": 8,
   "metadata": {},
   "outputs": [],
   "source": [
    "forecast_col = 'Adj Close'                # This is the column we are trying to predict"
   ]
  },
  {
   "cell_type": "code",
   "execution_count": 9,
   "metadata": {},
   "outputs": [
    {
     "name": "stderr",
     "output_type": "stream",
     "text": [
      "D:\\Installed\\Anaconda\\lib\\site-packages\\pandas\\core\\frame.py:4317: SettingWithCopyWarning: \n",
      "A value is trying to be set on a copy of a slice from a DataFrame\n",
      "\n",
      "See the caveats in the documentation: https://pandas.pydata.org/pandas-docs/stable/user_guide/indexing.html#returning-a-view-versus-a-copy\n",
      "  return super().fillna(\n"
     ]
    }
   ],
   "source": [
    "df.fillna(-99999, inplace=True)"
   ]
  },
  {
   "cell_type": "code",
   "execution_count": 10,
   "metadata": {},
   "outputs": [
    {
     "data": {
      "text/plain": [
       "3"
      ]
     },
     "execution_count": 10,
     "metadata": {},
     "output_type": "execute_result"
    }
   ],
   "source": [
    "forecast_out = int(math.ceil(0.01 * len(df)))\n",
    "forecast_out"
   ]
  },
  {
   "cell_type": "markdown",
   "metadata": {},
   "source": [
    "In the above line, 0.01 is the percentage of days we want to predict"
   ]
  },
  {
   "cell_type": "code",
   "execution_count": null,
   "metadata": {},
   "outputs": [],
   "source": []
  },
  {
   "cell_type": "code",
   "execution_count": 11,
   "metadata": {},
   "outputs": [
    {
     "name": "stderr",
     "output_type": "stream",
     "text": [
      "<ipython-input-11-525af858e98f>:1: SettingWithCopyWarning: \n",
      "A value is trying to be set on a copy of a slice from a DataFrame.\n",
      "Try using .loc[row_indexer,col_indexer] = value instead\n",
      "\n",
      "See the caveats in the documentation: https://pandas.pydata.org/pandas-docs/stable/user_guide/indexing.html#returning-a-view-versus-a-copy\n",
      "  df['label'] = df[forecast_col].shift(-forecast_out)\n"
     ]
    }
   ],
   "source": [
    "df['label'] = df[forecast_col].shift(-forecast_out)"
   ]
  },
  {
   "cell_type": "code",
   "execution_count": 12,
   "metadata": {},
   "outputs": [
    {
     "data": {
      "text/plain": [
       "0      1541.739990\n",
       "1      1511.339966\n",
       "2      1520.579956\n",
       "3      1513.640015\n",
       "4      1518.000000\n",
       "          ...     \n",
       "247    2574.379883\n",
       "248    2595.419922\n",
       "249            NaN\n",
       "250            NaN\n",
       "251            NaN\n",
       "Name: label, Length: 252, dtype: float64"
      ]
     },
     "execution_count": 12,
     "metadata": {},
     "output_type": "execute_result"
    }
   ],
   "source": [
    "df['label']"
   ]
  },
  {
   "cell_type": "code",
   "execution_count": 13,
   "metadata": {},
   "outputs": [
    {
     "data": {
      "text/html": [
       "<div>\n",
       "<style scoped>\n",
       "    .dataframe tbody tr th:only-of-type {\n",
       "        vertical-align: middle;\n",
       "    }\n",
       "\n",
       "    .dataframe tbody tr th {\n",
       "        vertical-align: top;\n",
       "    }\n",
       "\n",
       "    .dataframe thead th {\n",
       "        text-align: right;\n",
       "    }\n",
       "</style>\n",
       "<table border=\"1\" class=\"dataframe\">\n",
       "  <thead>\n",
       "    <tr style=\"text-align: right;\">\n",
       "      <th></th>\n",
       "      <th>Open</th>\n",
       "      <th>High</th>\n",
       "      <th>Low</th>\n",
       "      <th>Adj Close</th>\n",
       "      <th>Volume</th>\n",
       "      <th>label</th>\n",
       "    </tr>\n",
       "  </thead>\n",
       "  <tbody>\n",
       "    <tr>\n",
       "      <th>0</th>\n",
       "      <td>1490.000000</td>\n",
       "      <td>1516.800049</td>\n",
       "      <td>1483.550049</td>\n",
       "      <td>1485.180054</td>\n",
       "      <td>1458200</td>\n",
       "      <td>1541.739990</td>\n",
       "    </tr>\n",
       "    <tr>\n",
       "      <th>1</th>\n",
       "      <td>1494.319946</td>\n",
       "      <td>1505.880005</td>\n",
       "      <td>1485.630005</td>\n",
       "      <td>1496.000000</td>\n",
       "      <td>1249700</td>\n",
       "      <td>1511.339966</td>\n",
       "    </tr>\n",
       "    <tr>\n",
       "      <th>2</th>\n",
       "      <td>1506.449951</td>\n",
       "      <td>1522.719971</td>\n",
       "      <td>1488.084961</td>\n",
       "      <td>1510.989990</td>\n",
       "      <td>1423300</td>\n",
       "      <td>1520.579956</td>\n",
       "    </tr>\n",
       "    <tr>\n",
       "      <th>3</th>\n",
       "      <td>1506.150024</td>\n",
       "      <td>1543.829956</td>\n",
       "      <td>1496.540039</td>\n",
       "      <td>1541.739990</td>\n",
       "      <td>1856300</td>\n",
       "      <td>1513.640015</td>\n",
       "    </tr>\n",
       "    <tr>\n",
       "      <th>4</th>\n",
       "      <td>1550.000000</td>\n",
       "      <td>1577.131958</td>\n",
       "      <td>1505.243042</td>\n",
       "      <td>1511.339966</td>\n",
       "      <td>1846400</td>\n",
       "      <td>1518.000000</td>\n",
       "    </tr>\n",
       "  </tbody>\n",
       "</table>\n",
       "</div>"
      ],
      "text/plain": [
       "          Open         High          Low    Adj Close   Volume        label\n",
       "0  1490.000000  1516.800049  1483.550049  1485.180054  1458200  1541.739990\n",
       "1  1494.319946  1505.880005  1485.630005  1496.000000  1249700  1511.339966\n",
       "2  1506.449951  1522.719971  1488.084961  1510.989990  1423300  1520.579956\n",
       "3  1506.150024  1543.829956  1496.540039  1541.739990  1856300  1513.640015\n",
       "4  1550.000000  1577.131958  1505.243042  1511.339966  1846400  1518.000000"
      ]
     },
     "execution_count": 13,
     "metadata": {},
     "output_type": "execute_result"
    }
   ],
   "source": [
    "df.head()"
   ]
  },
  {
   "cell_type": "markdown",
   "metadata": {},
   "source": [
    "Remove missing values from the dataframe"
   ]
  },
  {
   "cell_type": "code",
   "execution_count": 15,
   "metadata": {},
   "outputs": [
    {
     "name": "stderr",
     "output_type": "stream",
     "text": [
      "<ipython-input-15-c64f9f573c18>:1: SettingWithCopyWarning: \n",
      "A value is trying to be set on a copy of a slice from a DataFrame\n",
      "\n",
      "See the caveats in the documentation: https://pandas.pydata.org/pandas-docs/stable/user_guide/indexing.html#returning-a-view-versus-a-copy\n",
      "  df.dropna(inplace=True)\n"
     ]
    }
   ],
   "source": [
    "df.dropna(inplace=True)"
   ]
  },
  {
   "cell_type": "code",
   "execution_count": null,
   "metadata": {},
   "outputs": [],
   "source": []
  },
  {
   "cell_type": "code",
   "execution_count": 16,
   "metadata": {},
   "outputs": [],
   "source": [
    "X = np.array(df.drop(['label'], 1))      # all columns from dataframe except 'label'\n",
    "y = np.array(df['label'])                # label column from dataframe"
   ]
  },
  {
   "cell_type": "markdown",
   "metadata": {},
   "source": [
    "Now we will pre-process the features.\n",
    "We will normalize these features within the range -1 to 1. This speeds up the processing"
   ]
  },
  {
   "cell_type": "code",
   "execution_count": 31,
   "metadata": {},
   "outputs": [],
   "source": [
    "X = preprocessing.scale(X)"
   ]
  },
  {
   "cell_type": "markdown",
   "metadata": {},
   "source": [
    "Now we split the data into training and testing portions\n",
    "size here used in 80% - 20%"
   ]
  },
  {
   "cell_type": "code",
   "execution_count": 37,
   "metadata": {},
   "outputs": [],
   "source": [
    "X_train, X_test, y_train, y_test = train_test_split(X, y, test_size=0.2)"
   ]
  },
  {
   "cell_type": "markdown",
   "metadata": {},
   "source": [
    "# Linear Regression Classifier"
   ]
  },
  {
   "cell_type": "code",
   "execution_count": 38,
   "metadata": {},
   "outputs": [],
   "source": [
    "clf = LinearRegression()"
   ]
  },
  {
   "cell_type": "code",
   "execution_count": 39,
   "metadata": {},
   "outputs": [
    {
     "data": {
      "text/plain": [
       "LinearRegression()"
      ]
     },
     "execution_count": 39,
     "metadata": {},
     "output_type": "execute_result"
    }
   ],
   "source": [
    "clf.fit(X_train, y_train)"
   ]
  },
  {
   "cell_type": "code",
   "execution_count": 40,
   "metadata": {},
   "outputs": [],
   "source": [
    "accuracy = clf.score(X_test, y_test)"
   ]
  },
  {
   "cell_type": "markdown",
   "metadata": {},
   "source": [
    "Accuracy here is in squared error"
   ]
  },
  {
   "cell_type": "code",
   "execution_count": 41,
   "metadata": {},
   "outputs": [
    {
     "data": {
      "text/plain": [
       "0.9799018981356228"
      ]
     },
     "execution_count": 41,
     "metadata": {},
     "output_type": "execute_result"
    }
   ],
   "source": [
    "accuracy\n"
   ]
  },
  {
   "cell_type": "markdown",
   "metadata": {},
   "source": [
    "# Support Vector Machines\n"
   ]
  },
  {
   "cell_type": "code",
   "execution_count": null,
   "metadata": {},
   "outputs": [],
   "source": []
  },
  {
   "cell_type": "code",
   "execution_count": 42,
   "metadata": {},
   "outputs": [],
   "source": [
    "clf = svm.SVR()"
   ]
  },
  {
   "cell_type": "code",
   "execution_count": 43,
   "metadata": {},
   "outputs": [
    {
     "data": {
      "text/plain": [
       "SVR()"
      ]
     },
     "execution_count": 43,
     "metadata": {},
     "output_type": "execute_result"
    }
   ],
   "source": [
    "clf.fit(X_train, y_train)"
   ]
  },
  {
   "cell_type": "code",
   "execution_count": 44,
   "metadata": {},
   "outputs": [],
   "source": [
    "accuracy = clf.score(X_test, y_test)"
   ]
  },
  {
   "cell_type": "code",
   "execution_count": 45,
   "metadata": {},
   "outputs": [
    {
     "data": {
      "text/plain": [
       "0.16283728830452582"
      ]
     },
     "execution_count": 45,
     "metadata": {},
     "output_type": "execute_result"
    }
   ],
   "source": [
    "accuracy"
   ]
  },
  {
   "cell_type": "code",
   "execution_count": 46,
   "metadata": {},
   "outputs": [],
   "source": [
    "### Lets try different kernels"
   ]
  },
  {
   "cell_type": "code",
   "execution_count": 47,
   "metadata": {},
   "outputs": [
    {
     "name": "stdout",
     "output_type": "stream",
     "text": [
      "linear 0.9792298268509012\n",
      "poly 0.6600240085491769\n",
      "rbf 0.16283728830452582\n",
      "sigmoid 0.40074763808916747\n"
     ]
    }
   ],
   "source": [
    "for k in ['linear','poly','rbf','sigmoid']:\n",
    "    clf = svm.SVR(kernel=k)\n",
    "    clf.fit(X_train, y_train)\n",
    "    confidence = clf.score(X_test, y_test)\n",
    "    print(k,confidence)"
   ]
  },
  {
   "cell_type": "code",
   "execution_count": null,
   "metadata": {},
   "outputs": [],
   "source": []
  }
 ],
 "metadata": {
  "kernelspec": {
   "display_name": "Python 3",
   "language": "python",
   "name": "python3"
  },
  "language_info": {
   "codemirror_mode": {
    "name": "ipython",
    "version": 3
   },
   "file_extension": ".py",
   "mimetype": "text/x-python",
   "name": "python",
   "nbconvert_exporter": "python",
   "pygments_lexer": "ipython3",
   "version": "3.8.5"
  }
 },
 "nbformat": 4,
 "nbformat_minor": 4
}
